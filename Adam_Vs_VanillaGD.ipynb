{
  "cells": [
    {
      "cell_type": "markdown",
      "metadata": {
        "id": "byKMPfb8U3u8"
      },
      "source": [
        "# Adam_Vs_Vanilla_GradientDecsent\n",
        "\n",
        "\n"
      ]
    },
    {
      "cell_type": "markdown",
      "metadata": {
        "id": "6JFQGIY6U3vC"
      },
      "source": [
        "### PROLOGUE: \n",
        "This Note book build upon our previous notebook \"Vanilla Gradient Decsent From Scratch\" which is present in my repository . In this notebook ,we build on top of that notebook , implement adam and observe its  effects on convergence.We jump right into adam , so if the reader needs more of a background , I would reccommend going through the previous notebook"
      ]
    },
    {
      "cell_type": "markdown",
      "metadata": {
        "id": "CS6_oX1Y3zKC"
      },
      "source": [
        "### PROJECT OBJECTIVE: \n",
        "To toggle learning rate Gradient Descent and observe \n"
      ]
    },
    {
      "cell_type": "markdown",
      "metadata": {
        "id": "1qqVfSfq_5sc"
      },
      "source": [
        "### CODE/SOLUTION SUMMARY\n",
        "- We implement Vanilla Gradient Descent on a dataset and log observations\n",
        "- We implement Adam on the same data set and log observations\n",
        "- We compare results and demostrate which algorithm is superior "
      ]
    },
    {
      "cell_type": "code",
      "execution_count": 60,
      "metadata": {
        "id": "Uowb8YX4U3vF"
      },
      "outputs": [],
      "source": [
        "# Import  libraries\n",
        "\n",
        "import matplotlib.pyplot as plt\n",
        "%matplotlib inline\n",
        "import pandas as pd\n",
        "import sys\n",
        "import numpy as np\n",
        "import seaborn as sns\n",
        "import statistics as stats\n",
        "sns.set(color_codes=True)\n",
        "from IPython.core.interactiveshell import InteractiveShell\n",
        "InteractiveShell.ast_node_interactivity = \"all\"\n",
        "#Last import allows multiple outputs from one cell\n",
        "import warnings\n",
        "# Initialize the random number generator\n",
        "import random\n",
        "random.seed(101)"
      ]
    },
    {
      "cell_type": "code",
      "execution_count": 61,
      "metadata": {
        "id": "dBurjaSqU3vF"
      },
      "outputs": [],
      "source": [
        "# Useful Configuration/Setting\n",
        "\n",
        "# suppress display of warnings\n",
        "warnings.filterwarnings('ignore')\n",
        "\n",
        "# display all dataframe columns\n",
        "pd.options.display.max_columns = None\n",
        "\n",
        "# to set the limit to 3 decimals\n",
        "pd.options.display.float_format = '{:.7f}'.format\n",
        "\n",
        "# display all dataframe rows\n",
        "pd.options.display.max_rows = None\n",
        "\n",
        "#Setting to shows all entries in array displayed\n",
        "np.set_printoptions(threshold=sys.maxsize)"
      ]
    },
    {
      "cell_type": "code",
      "execution_count": 62,
      "metadata": {
        "id": "nWdktWFq85D6"
      },
      "outputs": [],
      "source": [
        "# Lets create a  2 D data set manually\n",
        "\n",
        "X=np.arange(2,20,2)\n",
        "Y=2*X + 3"
      ]
    },
    {
      "cell_type": "code",
      "execution_count": 63,
      "metadata": {
        "colab": {
          "base_uri": "https://localhost:8080/"
        },
        "id": "m1BORjKpe3pQ",
        "outputId": "93c85bc2-a3d8-48a5-8885-6faf59afccaa"
      },
      "outputs": [
        {
          "output_type": "execute_result",
          "data": {
            "text/plain": [
              "array([ 2,  4,  6,  8, 10, 12, 14, 16, 18])"
            ]
          },
          "metadata": {},
          "execution_count": 63
        }
      ],
      "source": [
        "X"
      ]
    },
    {
      "cell_type": "code",
      "execution_count": 64,
      "metadata": {
        "colab": {
          "base_uri": "https://localhost:8080/"
        },
        "id": "lCwTcHRQS0se",
        "outputId": "d7307a0b-d591-4d16-c330-adc369f2a94d"
      },
      "outputs": [
        {
          "output_type": "execute_result",
          "data": {
            "text/plain": [
              "array([ 7, 11, 15, 19, 23, 27, 31, 35, 39])"
            ]
          },
          "metadata": {},
          "execution_count": 64
        }
      ],
      "source": [
        "Y"
      ]
    },
    {
      "cell_type": "code",
      "execution_count": 65,
      "metadata": {
        "colab": {
          "base_uri": "https://localhost:8080/",
          "height": 285
        },
        "id": "MkVJUVu-I4TS",
        "outputId": "bf9f53a1-4bcd-4e4e-f038-348a80d5ab13"
      },
      "outputs": [
        {
          "output_type": "execute_result",
          "data": {
            "text/plain": [
              "<matplotlib.collections.PathCollection at 0x7fc80a510490>"
            ]
          },
          "metadata": {},
          "execution_count": 65
        },
        {
          "output_type": "execute_result",
          "data": {
            "text/plain": [
              "[<matplotlib.lines.Line2D at 0x7fc80a5109a0>]"
            ]
          },
          "metadata": {},
          "execution_count": 65
        },
        {
          "output_type": "display_data",
          "data": {
            "text/plain": [
              "<Figure size 432x288 with 1 Axes>"
            ],
            "image/png": "[encoded data removed]"
          },
          "metadata": {}
        }
      ],
      "source": [
        "# Lets visualize the Actual Data Set\n",
        "\n",
        "plt.scatter(x=X,y=Y)\n",
        "plt.plot(X,Y,c='b')\n",
        "plt.show()"
      ]
    },
    {
      "cell_type": "code",
      "execution_count": 66,
      "metadata": {
        "id": "cArOCPopIYke"
      },
      "outputs": [],
      "source": [
        "# Note :\n",
        "# Variables naming convention\n",
        "# We have used small letters for scalars and CAPS for Vectors"
      ]
    },
    {
      "cell_type": "code",
      "execution_count": 67,
      "metadata": {
        "id": "YLfSUZlKzUS7"
      },
      "outputs": [],
      "source": [
        "# Lets define our loss function \n",
        "\n",
        "def MSE(Y_True,Y_Pred):\n",
        "  loss=np.sum(np.square(Y_Pred-Y_True))/Y_True.shape[0]\n",
        "  return loss\n"
      ]
    },
    {
      "cell_type": "code",
      "execution_count": 68,
      "metadata": {
        "id": "gg7hJWkhHFly"
      },
      "outputs": [],
      "source": [
        "# Lets define our linear function\n",
        "def linearFunc(X,W):\n",
        "  Y=W[0]*X +  W[1]\n",
        "  return Y\n"
      ]
    },
    {
      "cell_type": "code",
      "execution_count": 69,
      "metadata": {
        "id": "yo3eRcaII1vA"
      },
      "outputs": [],
      "source": [
        "# Start at a random weight\n",
        "W=np.ones(shape=2)\n",
        "W[0]=random.randint(5,10)\n",
        "W[1]=random.randint(5,10)"
      ]
    },
    {
      "cell_type": "code",
      "execution_count": 70,
      "metadata": {
        "colab": {
          "base_uri": "https://localhost:8080/"
        },
        "id": "BrD3usdrPsu7",
        "outputId": "89c0a4cf-4ca2-4ee4-cada-008f0720e2b4"
      },
      "outputs": [
        {
          "output_type": "stream",
          "name": "stdout",
          "text": [
            "9.0\n",
            "6.0\n"
          ]
        }
      ],
      "source": [
        "print(W[0])\n",
        "print(W[1])"
      ]
    },
    {
      "cell_type": "code",
      "execution_count": 71,
      "metadata": {
        "id": "fB0oRE3xpwhU"
      },
      "outputs": [],
      "source": [
        "# Now we have some random weights , lets visualize what the predicted line ...\n",
        "# ... looks like with these weights agianst the actual line"
      ]
    },
    {
      "cell_type": "code",
      "execution_count": 72,
      "metadata": {
        "colab": {
          "base_uri": "https://localhost:8080/",
          "height": 285
        },
        "id": "nPRpca9TJ039",
        "outputId": "49046555-3934-45e1-8645-2d816ef52c64"
      },
      "outputs": [
        {
          "output_type": "execute_result",
          "data": {
            "text/plain": [
              "[<matplotlib.lines.Line2D at 0x7fc80a478610>]"
            ]
          },
          "metadata": {},
          "execution_count": 72
        },
        {
          "output_type": "execute_result",
          "data": {
            "text/plain": [
              "[<matplotlib.lines.Line2D at 0x7fc80a478a30>]"
            ]
          },
          "metadata": {},
          "execution_count": 72
        },
        {
          "output_type": "display_data",
          "data": {
            "text/plain": [
              "<Figure size 432x288 with 1 Axes>"
            ],
            "image/png": "[encoded data removed]"
          },
          "metadata": {}
        }
      ],
      "source": [
        "# Lets see what the line looks like at this point\n",
        "plt.plot(X,linearFunc(X,W),c='r')# predicted line in red\n",
        "plt.plot(X,Y,c='b')# actual line in blue"
      ]
    },
    {
      "cell_type": "code",
      "execution_count": 73,
      "metadata": {
        "id": "7cY4LZA8Tix7"
      },
      "outputs": [],
      "source": [
        "# We can see the predicted line and actual line in the above"
      ]
    },
    {
      "cell_type": "markdown",
      "metadata": {
        "id": "-rffGHiKzKtR"
      },
      "source": [
        "##  Calculate Derivatives"
      ]
    },
    {
      "cell_type": "code",
      "execution_count": 74,
      "metadata": {
        "colab": {
          "base_uri": "https://localhost:8080/",
          "height": 70
        },
        "id": "wWpj3Xi_03G9",
        "outputId": "3b3fb567-0d69-48e2-effc-dc15e9df56d4"
      },
      "outputs": [
        {
          "output_type": "execute_result",
          "data": {
            "text/plain": [
              "\"Make note that we will be calcuating gradient at different points on the loss function as we try to make ...\\nour way to the minima for every combination of weighst(m & c) that we are at.\\nTherefore the gradient function will take inputs as X(Input data points), Y(Actual Values), P(Predicted Values) and give us \\nthe corresponding gradients of 'm' and 'c' at that point \""
            ],
            "application/vnd.google.colaboratory.intrinsic+json": {
              "type": "string"
            }
          },
          "metadata": {},
          "execution_count": 74
        }
      ],
      "source": [
        "# Lets write a func to calculate these gradients\n",
        "'''Make note that we will be calcuating gradient at different points on the loss function as we try to make ...\n",
        "our way to the minima for every combination of weighst(m & c) that we are at.\n",
        "Therefore the gradient function will take inputs as X(Input data points), Y(Actual Values), P(Predicted Values) and give us \n",
        "the corresponding gradients of 'm' and 'c' at that point '''\n",
        "\n",
        "def grad(X,Y,P):\n",
        "  '''Note here that we are going to realise this operation of calcuating gradient as one singly operation ...\n",
        "  insetad of doing seperately for m anc c. The final gradient will be a vector where one element corresponds to m ...\n",
        "  and one to c . So we will use the formula summation xi(y-yi) to calcuate both derivatives .Note only one of them had x into...\n",
        "  so just to make up for that we will add a dummy layer of 1's in the x part of that deriative which does not have x multiplied ...\n",
        "  with y-yi which for derivative of c because we canot do a multiplication op otherwise'''\n",
        "  \n",
        "  # add  a dummy layer of 1 's \n",
        "  X1=np.vstack((np.ones_like(X),X))\n",
        "\n",
        "  #calculate term in derivative which we will need later\n",
        "  E=Y-P\n",
        "\n",
        "  #calculate number of samples \n",
        "  N=np.shape(X)[0]\n",
        "\n",
        "  #Calculate gradient \n",
        "  G= -1/N*(X1.dot(E))\n",
        "\n",
        "  return G"
      ]
    },
    {
      "cell_type": "code",
      "execution_count": 74,
      "metadata": {
        "id": "ll2KKk2UngnN"
      },
      "outputs": [],
      "source": []
    },
    {
      "cell_type": "code",
      "execution_count": 75,
      "metadata": {
        "colab": {
          "base_uri": "https://localhost:8080/"
        },
        "id": "gUSGgX4tdKgW",
        "outputId": "b39e3727-cf13-4040-d7a4-6b58b4861a08"
      },
      "outputs": [
        {
          "output_type": "stream",
          "name": "stdout",
          "text": [
            "W [9. 6.]\n",
            "X [ 2  4  6  8 10 12 14 16 18]\n",
            "Y [ 7 11 15 19 23 27 31 35 39]\n"
          ]
        }
      ],
      "source": [
        "# We have already assigned an arbitrary value for weights (aka m and c here)\n",
        "print('W',W)\n",
        "\n",
        "#Lets also re-print our X,Y\n",
        "print('X',X) # input values\n",
        "print('Y',Y) # Actual Output\n",
        "\n",
        "#Alrighty, we are all set to proceed"
      ]
    },
    {
      "cell_type": "code",
      "execution_count": 76,
      "metadata": {
        "id": "AkQOytKYpGSD"
      },
      "outputs": [],
      "source": [
        "W_Copy=W.copy()"
      ]
    },
    {
      "cell_type": "markdown",
      "metadata": {
        "id": "F2gia3EDpG0i"
      },
      "source": [
        "##  Implement Vanila Gradient Descent "
      ]
    },
    {
      "cell_type": "code",
      "execution_count": 77,
      "metadata": {
        "colab": {
          "base_uri": "https://localhost:8080/"
        },
        "id": "Ywbh9T9opG0j",
        "outputId": "3e4452ac-346b-4207-dffb-80ea1bd3f6cb"
      },
      "outputs": [
        {
          "output_type": "stream",
          "name": "stdout",
          "text": [
            "W [9. 6.]\n",
            "X [ 2  4  6  8 10 12 14 16 18]\n",
            "Y [ 7 11 15 19 23 27 31 35 39]\n"
          ]
        }
      ],
      "source": [
        "# We have already assigned an arbitrary value for weights (aka m and c here)\n",
        "print('W',W)\n",
        "\n",
        "#Lets also re-print our X,Y\n",
        "print('X',X) # input values\n",
        "print('Y',Y) # Actual Output\n",
        "\n",
        "#Alrighty, we are all set to proceed"
      ]
    },
    {
      "cell_type": "code",
      "execution_count": 78,
      "metadata": {
        "colab": {
          "base_uri": "https://localhost:8080/",
          "height": 1000
        },
        "id": "sdCwImqopG0l",
        "outputId": "654e4c0f-d29e-4091-d83f-69480d0e598f"
      },
      "outputs": [
        {
          "output_type": "stream",
          "name": "stdout",
          "text": [
            "deltaWtThresh 0.1\n"
          ]
        },
        {
          "output_type": "execute_result",
          "data": {
            "text/plain": [
              "[<matplotlib.lines.Line2D at 0x7fc80a3eb250>]"
            ]
          },
          "metadata": {},
          "execution_count": 78
        },
        {
          "output_type": "execute_result",
          "data": {
            "text/plain": [
              "[<matplotlib.lines.Line2D at 0x7fc80a3eb4f0>]"
            ]
          },
          "metadata": {},
          "execution_count": 78
        },
        {
          "output_type": "stream",
          "name": "stdout",
          "text": [
            "currLoss 6635.666666666667\n",
            "deltaWt [-0.073      -0.91666667]\n",
            "abs 0.9896666666666674\n"
          ]
        },
        {
          "output_type": "execute_result",
          "data": {
            "text/plain": [
              "[<matplotlib.lines.Line2D at 0x7fc80a3eb8b0>]"
            ]
          },
          "metadata": {},
          "execution_count": 78
        },
        {
          "output_type": "stream",
          "name": "stdout",
          "text": [
            "currLoss 6370.853617777776\n",
            "deltaWt [-0.07135333 -0.89825333]\n",
            "abs 0.9696066666666656\n"
          ]
        },
        {
          "output_type": "execute_result",
          "data": {
            "text/plain": [
              "[<matplotlib.lines.Line2D at 0x7fc80a3ebd90>]"
            ]
          },
          "metadata": {},
          "execution_count": 78
        },
        {
          "output_type": "stream",
          "name": "stdout",
          "text": [
            "currLoss 6117.213763943586\n",
            "deltaWt [-0.06974155 -0.88023271]\n",
            "abs 0.9499742577777774\n"
          ]
        },
        {
          "output_type": "execute_result",
          "data": {
            "text/plain": [
              "[<matplotlib.lines.Line2D at 0x7fc80a4022b0>]"
            ]
          },
          "metadata": {},
          "execution_count": 78
        },
        {
          "output_type": "stream",
          "name": "stdout",
          "text": [
            "currLoss 5874.277278474008\n",
            "deltaWt [-0.0681639  -0.86259645]\n",
            "abs 0.9307603532444442\n"
          ]
        },
        {
          "output_type": "execute_result",
          "data": {
            "text/plain": [
              "[<matplotlib.lines.Line2D at 0x7fc80a4027f0>]"
            ]
          },
          "metadata": {},
          "execution_count": 78
        },
        {
          "output_type": "stream",
          "name": "stdout",
          "text": [
            "currLoss 5641.594094639924\n",
            "deltaWt [-0.06661966 -0.8453364 ]\n",
            "abs 0.9119560594486527\n"
          ]
        },
        {
          "output_type": "execute_result",
          "data": {
            "text/plain": [
              "[<matplotlib.lines.Line2D at 0x7fc80a402c40>]"
            ]
          },
          "metadata": {},
          "execution_count": 78
        },
        {
          "output_type": "stream",
          "name": "stdout",
          "text": [
            "currLoss 5418.733074619204\n",
            "deltaWt [-0.06510813 -0.82844454]\n",
            "abs 0.8935526718048615\n"
          ]
        },
        {
          "output_type": "execute_result",
          "data": {
            "text/plain": [
              "[<matplotlib.lines.Line2D at 0x7fc80a402fa0>]"
            ]
          },
          "metadata": {},
          "execution_count": 78
        },
        {
          "output_type": "stream",
          "name": "stdout",
          "text": [
            "currLoss 5205.281213394834\n",
            "deltaWt [-0.0636286  -0.81191307]\n",
            "abs 0.8755416707421988\n"
          ]
        },
        {
          "output_type": "execute_result",
          "data": {
            "text/plain": [
              "[<matplotlib.lines.Line2D at 0x7fc80a40a310>]"
            ]
          },
          "metadata": {},
          "execution_count": 78
        },
        {
          "output_type": "stream",
          "name": "stdout",
          "text": [
            "currLoss 5000.842876135041\n",
            "deltaWt [-0.06218041 -0.79573431]\n",
            "abs 0.8579147177720379\n"
          ]
        },
        {
          "output_type": "execute_result",
          "data": {
            "text/plain": [
              "[<matplotlib.lines.Line2D at 0x7fc80a40a6a0>]"
            ]
          },
          "metadata": {},
          "execution_count": 78
        },
        {
          "output_type": "stream",
          "name": "stdout",
          "text": [
            "currLoss 4805.039067647348\n",
            "deltaWt [-0.06076287 -0.77990078]\n",
            "abs 0.8406636516391669\n"
          ]
        },
        {
          "output_type": "execute_result",
          "data": {
            "text/plain": [
              "[<matplotlib.lines.Line2D at 0x7fc80a40ab50>]"
            ]
          },
          "metadata": {},
          "execution_count": 78
        },
        {
          "output_type": "stream",
          "name": "stdout",
          "text": [
            "currLoss 4617.5067325575465\n",
            "deltaWt [-0.05937534 -0.76440515]\n",
            "abs 0.8237804845547605\n"
          ]
        },
        {
          "output_type": "execute_result",
          "data": {
            "text/plain": [
              "[<matplotlib.lines.Line2D at 0x7fc80a40aeb0>]"
            ]
          },
          "metadata": {},
          "execution_count": 78
        },
        {
          "output_type": "stream",
          "name": "stdout",
          "text": [
            "currLoss 4437.898084921392\n",
            "deltaWt [-0.05801718 -0.74924022]\n",
            "abs 0.8072573985094191\n"
          ]
        },
        {
          "output_type": "execute_result",
          "data": {
            "text/plain": [
              "[<matplotlib.lines.Line2D at 0x7fc80a414100>]"
            ]
          },
          "metadata": {},
          "execution_count": 78
        },
        {
          "output_type": "stream",
          "name": "stdout",
          "text": [
            "currLoss 4265.8799660311515\n",
            "deltaWt [-0.05668777 -0.73439897]\n",
            "abs 0.7910867416645724\n"
          ]
        },
        {
          "output_type": "execute_result",
          "data": {
            "text/plain": [
              "[<matplotlib.lines.Line2D at 0x7fc80a414460>]"
            ]
          },
          "metadata": {},
          "execution_count": 78
        },
        {
          "output_type": "stream",
          "name": "stdout",
          "text": [
            "currLoss 4101.133229231218\n",
            "deltaWt [-0.05538649 -0.71987453]\n",
            "abs 0.7752610248205825\n"
          ]
        },
        {
          "output_type": "execute_result",
          "data": {
            "text/plain": [
              "[<matplotlib.lines.Line2D at 0x7fc80a414940>]"
            ]
          },
          "metadata": {},
          "execution_count": 78
        },
        {
          "output_type": "stream",
          "name": "stdout",
          "text": [
            "currLoss 3943.3521506068337\n",
            "deltaWt [-0.05411275 -0.70566017]\n",
            "abs 0.759772917959916\n"
          ]
        },
        {
          "output_type": "execute_result",
          "data": {
            "text/plain": [
              "[<matplotlib.lines.Line2D at 0x7fc80a414ca0>]"
            ]
          },
          "metadata": {},
          "execution_count": 78
        },
        {
          "output_type": "stream",
          "name": "stdout",
          "text": [
            "currLoss 3792.2438644577614\n",
            "deltaWt [-0.05286596 -0.69174928]\n",
            "abs 0.7446152468637939\n"
          ]
        },
        {
          "output_type": "execute_result",
          "data": {
            "text/plain": [
              "[<matplotlib.lines.Line2D at 0x7fc80a414eb0>]"
            ]
          },
          "metadata": {},
          "execution_count": 78
        },
        {
          "output_type": "stream",
          "name": "stdout",
          "text": [
            "currLoss 3647.5278225145394\n",
            "deltaWt [-0.05164555 -0.67813544]\n",
            "abs 0.729780989800739\n"
          ]
        },
        {
          "output_type": "execute_result",
          "data": {
            "text/plain": [
              "[<matplotlib.lines.Line2D at 0x7fc80a4243a0>]"
            ]
          },
          "metadata": {},
          "execution_count": 78
        },
        {
          "output_type": "stream",
          "name": "stdout",
          "text": [
            "currLoss 3508.9352758987434\n",
            "deltaWt [-0.05045096 -0.66481231]\n",
            "abs 0.7152632742855278\n"
          ]
        },
        {
          "output_type": "execute_result",
          "data": {
            "text/plain": [
              "[<matplotlib.lines.Line2D at 0x7fc80a424700>]"
            ]
          },
          "metadata": {},
          "execution_count": 78
        },
        {
          "output_type": "stream",
          "name": "stdout",
          "text": [
            "currLoss 3376.2087788707086\n",
            "deltaWt [-0.04928164 -0.65177373]\n",
            "abs 0.7010553739070149\n"
          ]
        },
        {
          "output_type": "execute_result",
          "data": {
            "text/plain": [
              "[<matplotlib.lines.Line2D at 0x7fc80a424a60>]"
            ]
          },
          "metadata": {},
          "execution_count": 78
        },
        {
          "output_type": "stream",
          "name": "stdout",
          "text": [
            "currLoss 3249.1017134483677\n",
            "deltaWt [-0.04813705 -0.63901365]\n",
            "abs 0.6871507052233872\n"
          ]
        },
        {
          "output_type": "execute_result",
          "data": {
            "text/plain": [
              "[<matplotlib.lines.Line2D at 0x7fc80a424dc0>]"
            ]
          },
          "metadata": {},
          "execution_count": 78
        },
        {
          "output_type": "stream",
          "name": "stdout",
          "text": [
            "currLoss 3127.377834019451\n",
            "deltaWt [-0.04701667 -0.62652616]\n",
            "abs 0.6735428247234037\n"
          ]
        },
        {
          "output_type": "execute_result",
          "data": {
            "text/plain": [
              "[<matplotlib.lines.Line2D at 0x7fc80a424fd0>]"
            ]
          },
          "metadata": {},
          "execution_count": 78
        },
        {
          "output_type": "stream",
          "name": "stdout",
          "text": [
            "currLoss 3010.8108311061496\n",
            "deltaWt [-0.04591997 -0.61430545]\n",
            "abs 0.6602254258522242\n"
          ]
        },
        {
          "output_type": "execute_result",
          "data": {
            "text/plain": [
              "[<matplotlib.lines.Line2D at 0x7fc80a4254c0>]"
            ]
          },
          "metadata": {},
          "execution_count": 78
        },
        {
          "output_type": "stream",
          "name": "stdout",
          "text": [
            "currLoss 2899.1839134767542\n",
            "deltaWt [-0.04484647 -0.60234587]\n",
            "abs 0.6471923361004617\n"
          ]
        },
        {
          "output_type": "execute_result",
          "data": {
            "text/plain": [
              "[<matplotlib.lines.Line2D at 0x7fc80a425820>]"
            ]
          },
          "metadata": {},
          "execution_count": 78
        },
        {
          "output_type": "stream",
          "name": "stdout",
          "text": [
            "currLoss 2792.289407832619\n",
            "deltaWt [-0.04379566 -0.59064186]\n",
            "abs 0.6344375141550911\n"
          ]
        },
        {
          "output_type": "execute_result",
          "data": {
            "text/plain": [
              "[<matplotlib.lines.Line2D at 0x7fc80a425a00>]"
            ]
          },
          "metadata": {},
          "execution_count": 78
        },
        {
          "output_type": "stream",
          "name": "stdout",
          "text": [
            "currLoss 2689.928375331312\n",
            "deltaWt [-0.04276706 -0.57918799]\n",
            "abs 0.621955047110923\n"
          ]
        },
        {
          "output_type": "execute_result",
          "data": {
            "text/plain": [
              "[<matplotlib.lines.Line2D at 0x7fc80a425dc0>]"
            ]
          },
          "metadata": {},
          "execution_count": 78
        },
        {
          "output_type": "stream",
          "name": "stdout",
          "text": [
            "currLoss 2591.9102442378285\n",
            "deltaWt [-0.0417602  -0.56797895]\n",
            "abs 0.6097391477413492\n"
          ]
        },
        {
          "output_type": "execute_result",
          "data": {
            "text/plain": [
              "[<matplotlib.lines.Line2D at 0x7fc80a3ba070>]"
            ]
          },
          "metadata": {},
          "execution_count": 78
        },
        {
          "output_type": "stream",
          "name": "stdout",
          "text": [
            "currLoss 2498.0524580255865\n",
            "deltaWt [-0.04077462 -0.55700953]\n",
            "abs 0.5977841518270903\n"
          ]
        },
        {
          "output_type": "execute_result",
          "data": {
            "text/plain": [
              "[<matplotlib.lines.Line2D at 0x7fc80a3ba580>]"
            ]
          },
          "metadata": {},
          "execution_count": 78
        },
        {
          "output_type": "stream",
          "name": "stdout",
          "text": [
            "currLoss 2408.180138277405\n",
            "deltaWt [-0.03980986 -0.54627465]\n",
            "abs 0.5860845155417227\n"
          ]
        },
        {
          "output_type": "execute_result",
          "data": {
            "text/plain": [
              "[<matplotlib.lines.Line2D at 0x7fc80a3ba8e0>]"
            ]
          },
          "metadata": {},
          "execution_count": 78
        },
        {
          "output_type": "stream",
          "name": "stdout",
          "text": [
            "currLoss 2322.1257617640413\n",
            "deltaWt [-0.03886549 -0.53576932]\n",
            "abs 0.5746348128927776\n"
          ]
        },
        {
          "output_type": "execute_result",
          "data": {
            "text/plain": [
              "[<matplotlib.lines.Line2D at 0x7fc80a3ba9d0>]"
            ]
          },
          "metadata": {},
          "execution_count": 78
        },
        {
          "output_type": "stream",
          "name": "stdout",
          "text": [
            "currLoss 2239.7288511039774\n",
            "deltaWt [-0.03794107 -0.52548867]\n",
            "abs 0.5634297332172267\n"
          ]
        },
        {
          "output_type": "execute_result",
          "data": {
            "text/plain": [
              "[<matplotlib.lines.Line2D at 0x7fc80a3bad30>]"
            ]
          },
          "metadata": {},
          "execution_count": 78
        },
        {
          "output_type": "stream",
          "name": "stdout",
          "text": [
            "currLoss 2160.8356784333027\n",
            "deltaWt [-0.03703617 -0.51542791]\n",
            "abs 0.5524640787301962\n"
          ]
        },
        {
          "output_type": "execute_result",
          "data": {
            "text/plain": [
              "[<matplotlib.lines.Line2D at 0x7fc80a3c7220>]"
            ]
          },
          "metadata": {},
          "execution_count": 78
        },
        {
          "output_type": "stream",
          "name": "stdout",
          "text": [
            "currLoss 2085.2989815384917\n",
            "deltaWt [-0.03615038 -0.50558238]\n",
            "abs 0.5417327621257924\n"
          ]
        },
        {
          "output_type": "execute_result",
          "data": {
            "text/plain": [
              "[<matplotlib.lines.Line2D at 0x7fc80a3c75e0>]"
            ]
          },
          "metadata": {},
          "execution_count": 78
        },
        {
          "output_type": "stream",
          "name": "stdout",
          "text": [
            "currLoss 2012.9776919279288\n",
            "deltaWt [-0.03528329 -0.49594751]\n",
            "abs 0.5312308042289109\n"
          ]
        },
        {
          "output_type": "execute_result",
          "data": {
            "text/plain": [
              "[<matplotlib.lines.Line2D at 0x7fc80a3c7a30>]"
            ]
          },
          "metadata": {},
          "execution_count": 78
        },
        {
          "output_type": "stream",
          "name": "stdout",
          "text": [
            "currLoss 1943.7366743400698\n",
            "deltaWt [-0.03443451 -0.48651882]\n",
            "abs 0.5209533316969548\n"
          ]
        },
        {
          "output_type": "execute_result",
          "data": {
            "text/plain": [
              "[<matplotlib.lines.Line2D at 0x7fc80a3c7d90>]"
            ]
          },
          "metadata": {},
          "execution_count": 78
        },
        {
          "output_type": "stream",
          "name": "stdout",
          "text": [
            "currLoss 1877.446477207236\n",
            "deltaWt [-0.03360365 -0.47729193]\n",
            "abs 0.5108955747704176\n"
          ]
        },
        {
          "output_type": "execute_result",
          "data": {
            "text/plain": [
              "[<matplotlib.lines.Line2D at 0x7fc80a3c7f70>]"
            ]
          },
          "metadata": {},
          "execution_count": 78
        },
        {
          "output_type": "stream",
          "name": "stdout",
          "text": [
            "currLoss 1813.9830936142787\n",
            "deltaWt [-0.03279032 -0.46826255]\n",
            "abs 0.5010528650712578\n"
          ]
        },
        {
          "output_type": "execute_result",
          "data": {
            "text/plain": [
              "[<matplotlib.lines.Line2D at 0x7fc80a3d23a0>]"
            ]
          },
          "metadata": {},
          "execution_count": 78
        },
        {
          "output_type": "stream",
          "name": "stdout",
          "text": [
            "currLoss 1753.2277323107317\n",
            "deltaWt [-0.03199415 -0.45942648]\n",
            "abs 0.4914206334480742\n"
          ]
        },
        {
          "output_type": "execute_result",
          "data": {
            "text/plain": [
              "[<matplotlib.lines.Line2D at 0x7fc80a3d25b0>]"
            ]
          },
          "metadata": {},
          "execution_count": 78
        },
        {
          "output_type": "stream",
          "name": "stdout",
          "text": [
            "currLoss 1695.0665983536112\n",
            "deltaWt [-0.03121479 -0.45077962]\n",
            "abs 0.4819944078670906\n"
          ]
        },
        {
          "output_type": "execute_result",
          "data": {
            "text/plain": [
              "[<matplotlib.lines.Line2D at 0x7fc80a3d29d0>]"
            ]
          },
          "metadata": {},
          "execution_count": 78
        },
        {
          "output_type": "stream",
          "name": "stdout",
          "text": [
            "currLoss 1639.3906829758405\n",
            "deltaWt [-0.03045186 -0.44231795]\n",
            "abs 0.47276981134795104\n"
          ]
        },
        {
          "output_type": "execute_result",
          "data": {
            "text/plain": [
              "[<matplotlib.lines.Line2D at 0x7fc80a3d2e80>]"
            ]
          },
          "metadata": {},
          "execution_count": 78
        },
        {
          "output_type": "stream",
          "name": "stdout",
          "text": [
            "currLoss 1586.0955622922806\n",
            "deltaWt [-0.02970502 -0.43403754]\n",
            "abs 0.4637425599434035\n"
          ]
        },
        {
          "output_type": "execute_result",
          "data": {
            "text/plain": [
              "[<matplotlib.lines.Line2D at 0x7fc80a3e3220>]"
            ]
          },
          "metadata": {},
          "execution_count": 78
        },
        {
          "output_type": "stream",
          "name": "stdout",
          "text": [
            "currLoss 1535.0812044716865\n",
            "deltaWt [-0.02897393 -0.42593453]\n",
            "abs 0.45490846076191627\n"
          ]
        },
        {
          "output_type": "execute_result",
          "data": {
            "text/plain": [
              "[<matplotlib.lines.Line2D at 0x7fc80a3e3580>]"
            ]
          },
          "metadata": {},
          "execution_count": 78
        },
        {
          "output_type": "stream",
          "name": "stdout",
          "text": [
            "currLoss 1486.2517850185259\n",
            "deltaWt [-0.02825826 -0.41800515]\n",
            "abs 0.4462634100323237\n"
          ]
        },
        {
          "output_type": "execute_result",
          "data": {
            "text/plain": [
              "[<matplotlib.lines.Line2D at 0x7fc80a3e38e0>]"
            ]
          },
          "metadata": {},
          "execution_count": 78
        },
        {
          "output_type": "stream",
          "name": "stdout",
          "text": [
            "currLoss 1439.5155098235857\n",
            "deltaWt [-0.02755767 -0.41024572]\n",
            "abs 0.4378033912096111\n"
          ]
        },
        {
          "output_type": "execute_result",
          "data": {
            "text/plain": [
              "[<matplotlib.lines.Line2D at 0x7fc80a3e3c40>]"
            ]
          },
          "metadata": {},
          "execution_count": 78
        },
        {
          "output_type": "stream",
          "name": "stdout",
          "text": [
            "currLoss 1394.7844456566281\n",
            "deltaWt [-0.02687185 -0.40265262]\n",
            "abs 0.42952447312095376\n"
          ]
        },
        {
          "output_type": "execute_result",
          "data": {
            "text/plain": [
              "[<matplotlib.lines.Line2D at 0x7fc80a3e3fa0>]"
            ]
          },
          "metadata": {},
          "execution_count": 78
        },
        {
          "output_type": "stream",
          "name": "stdout",
          "text": [
            "currLoss 1351.9743577881093\n",
            "deltaWt [-0.02620048 -0.39522233]\n",
            "abs 0.4214228081511706\n"
          ]
        },
        {
          "output_type": "execute_result",
          "data": {
            "text/plain": [
              "[<matplotlib.lines.Line2D at 0x7fc80a3da340>]"
            ]
          },
          "metadata": {},
          "execution_count": 78
        },
        {
          "output_type": "stream",
          "name": "stdout",
          "text": [
            "currLoss 1311.0045544401119\n",
            "deltaWt [-0.02554325 -0.38795138]\n",
            "abs 0.4134946304667304\n"
          ]
        },
        {
          "output_type": "execute_result",
          "data": {
            "text/plain": [
              "[<matplotlib.lines.Line2D at 0x7fc80a3da6a0>]"
            ]
          },
          "metadata": {},
          "execution_count": 78
        },
        {
          "output_type": "stream",
          "name": "stdout",
          "text": [
            "currLoss 1271.7977377792947\n",
            "deltaWt [-0.02489987 -0.38083639]\n",
            "abs 0.405736254277528\n"
          ]
        },
        {
          "output_type": "execute_result",
          "data": {
            "text/plain": [
              "[<matplotlib.lines.Line2D at 0x7fc80a3daa00>]"
            ]
          },
          "metadata": {},
          "execution_count": 78
        },
        {
          "output_type": "stream",
          "name": "stdout",
          "text": [
            "currLoss 1234.279861176703\n",
            "deltaWt [-0.02427003 -0.37387404]\n",
            "abs 0.3981440721355902\n"
          ]
        },
        {
          "output_type": "execute_result",
          "data": {
            "text/plain": [
              "[<matplotlib.lines.Line2D at 0x7fc80a3dad60>]"
            ]
          },
          "metadata": {},
          "execution_count": 78
        },
        {
          "output_type": "stream",
          "name": "stdout",
          "text": [
            "currLoss 1198.3799924708755\n",
            "deltaWt [-0.02365346 -0.3670611 ]\n",
            "abs 0.3907145532699401\n"
          ]
        },
        {
          "output_type": "execute_result",
          "data": {
            "text/plain": [
              "[<matplotlib.lines.Line2D at 0x7fc80a3daf70>]"
            ]
          },
          "metadata": {},
          "execution_count": 78
        },
        {
          "output_type": "stream",
          "name": "stdout",
          "text": [
            "currLoss 1164.030182981765\n",
            "deltaWt [-0.02304986 -0.36039438]\n",
            "abs 0.3834442419568571\n"
          ]
        },
        {
          "output_type": "execute_result",
          "data": {
            "text/plain": [
              "[<matplotlib.lines.Line2D at 0x7fc80a375460>]"
            ]
          },
          "metadata": {},
          "execution_count": 78
        },
        {
          "output_type": "stream",
          "name": "stdout",
          "text": [
            "currLoss 1131.1653420336065\n",
            "deltaWt [-0.02245897 -0.35387079]\n",
            "abs 0.37632975592479134\n"
          ]
        },
        {
          "output_type": "execute_result",
          "data": {
            "text/plain": [
              "[<matplotlib.lines.Line2D at 0x7fc80a3757c0>]"
            ]
          },
          "metadata": {},
          "execution_count": 78
        },
        {
          "output_type": "stream",
          "name": "stdout",
          "text": [
            "currLoss 1099.7231167550462\n",
            "deltaWt [-0.02188051 -0.34748728]\n",
            "abs 0.3693677847931536\n"
          ]
        },
        {
          "output_type": "execute_result",
          "data": {
            "text/plain": [
              "[<matplotlib.lines.Line2D at 0x7fc80a375b20>]"
            ]
          },
          "metadata": {},
          "execution_count": 78
        },
        {
          "output_type": "stream",
          "name": "stdout",
          "text": [
            "currLoss 1069.6437769345696\n",
            "deltaWt [-0.02131422 -0.34124087]\n",
            "abs 0.3625550885443056\n"
          ]
        },
        {
          "output_type": "execute_result",
          "data": {
            "text/plain": [
              "[<matplotlib.lines.Line2D at 0x7fc80a375e80>]"
            ]
          },
          "metadata": {},
          "execution_count": 78
        },
        {
          "output_type": "stream",
          "name": "stdout",
          "text": [
            "currLoss 1040.870104718631\n",
            "deltaWt [-0.02075983 -0.33512866]\n",
            "abs 0.35588849602802863\n"
          ]
        },
        {
          "output_type": "execute_result",
          "data": {
            "text/plain": [
              "[<matplotlib.lines.Line2D at 0x7fc80a37b0d0>]"
            ]
          },
          "metadata": {},
          "execution_count": 78
        },
        {
          "output_type": "stream",
          "name": "stdout",
          "text": [
            "currLoss 1013.3472889488008\n",
            "deltaWt [-0.02021711 -0.3291478 ]\n",
            "abs 0.3493649034977713\n"
          ]
        },
        {
          "output_type": "execute_result",
          "data": {
            "text/plain": [
              "[<matplotlib.lines.Line2D at 0x7fc80a37b580>]"
            ]
          },
          "metadata": {},
          "execution_count": 78
        },
        {
          "output_type": "stream",
          "name": "stdout",
          "text": [
            "currLoss 987.022823942832\n",
            "deltaWt [-0.01968579 -0.32329549]\n",
            "abs 0.3429812731780135\n"
          ]
        },
        {
          "output_type": "execute_result",
          "data": {
            "text/plain": [
              "[<matplotlib.lines.Line2D at 0x7fc80a37b8e0>]"
            ]
          },
          "metadata": {},
          "execution_count": 78
        },
        {
          "output_type": "stream",
          "name": "stdout",
          "text": [
            "currLoss 961.8464125327436\n",
            "deltaWt [-0.01916563 -0.317569  ]\n",
            "abs 0.3367346318620772\n"
          ]
        },
        {
          "output_type": "execute_result",
          "data": {
            "text/plain": [
              "[<matplotlib.lines.Line2D at 0x7fc80a37bc40>]"
            ]
          },
          "metadata": {},
          "execution_count": 78
        },
        {
          "output_type": "stream",
          "name": "stdout",
          "text": [
            "currLoss 937.769873180878\n",
            "deltaWt [-0.01865641 -0.31196566]\n",
            "abs 0.3306220695397455\n"
          ]
        },
        {
          "output_type": "execute_result",
          "data": {
            "text/plain": [
              "[<matplotlib.lines.Line2D at 0x7fc80a37bfa0>]"
            ]
          },
          "metadata": {},
          "execution_count": 78
        },
        {
          "output_type": "stream",
          "name": "stdout",
          "text": [
            "currLoss 914.7470510024315\n",
            "deltaWt [-0.01815788 -0.30648286]\n",
            "abs 0.3246407380540415\n"
          ]
        },
        {
          "output_type": "execute_result",
          "data": {
            "text/plain": [
              "[<matplotlib.lines.Line2D at 0x7fc80a36c340>]"
            ]
          },
          "metadata": {},
          "execution_count": 78
        },
        {
          "output_type": "stream",
          "name": "stdout",
          "text": [
            "currLoss 892.733732530151\n",
            "deltaWt [-0.01766982 -0.30111803]\n",
            "abs 0.31878784978657393\n"
          ]
        },
        {
          "output_type": "execute_result",
          "data": {
            "text/plain": [
              "[<matplotlib.lines.Line2D at 0x7fc80a36c6a0>]"
            ]
          },
          "metadata": {},
          "execution_count": 78
        },
        {
          "output_type": "stream",
          "name": "stdout",
          "text": [
            "currLoss 871.6875640638201\n",
            "deltaWt [-0.017192   -0.29586868]\n",
            "abs 0.31306067637080304\n"
          ]
        },
        {
          "output_type": "execute_result",
          "data": {
            "text/plain": [
              "[<matplotlib.lines.Line2D at 0x7fc80a36ca00>]"
            ]
          },
          "metadata": {},
          "execution_count": 78
        },
        {
          "output_type": "stream",
          "name": "stdout",
          "text": [
            "currLoss 851.5679734537599\n",
            "deltaWt [-0.01672421 -0.29073233]\n",
            "abs 0.30745654743267714\n"
          ]
        },
        {
          "output_type": "execute_result",
          "data": {
            "text/plain": [
              "[<matplotlib.lines.Line2D at 0x7fc80a36cd60>]"
            ]
          },
          "metadata": {},
          "execution_count": 78
        },
        {
          "output_type": "stream",
          "name": "stdout",
          "text": [
            "currLoss 832.3360951739245\n",
            "deltaWt [-0.01626624 -0.28570661]\n",
            "abs 0.3019728493580143\n"
          ]
        },
        {
          "output_type": "execute_result",
          "data": {
            "text/plain": [
              "[<matplotlib.lines.Line2D at 0x7fc80a36cf70>]"
            ]
          },
          "metadata": {},
          "execution_count": 78
        },
        {
          "output_type": "stream",
          "name": "stdout",
          "text": [
            "currLoss 813.9546985462325\n",
            "deltaWt [-0.01581787 -0.28078915]\n",
            "abs 0.2966070240861107\n"
          ]
        },
        {
          "output_type": "execute_result",
          "data": {
            "text/plain": [
              "[<matplotlib.lines.Line2D at 0x7fc80a396460>]"
            ]
          },
          "metadata": {},
          "execution_count": 78
        },
        {
          "output_type": "stream",
          "name": "stdout",
          "text": [
            "currLoss 796.3881189836104\n",
            "deltaWt [-0.0153789  -0.27597767]\n",
            "abs 0.29135656792896203\n"
          ]
        },
        {
          "output_type": "execute_result",
          "data": {
            "text/plain": [
              "[<matplotlib.lines.Line2D at 0x7fc80a3967c0>]"
            ]
          },
          "metadata": {},
          "execution_count": 78
        },
        {
          "output_type": "stream",
          "name": "stdout",
          "text": [
            "currLoss 779.6021921247795\n",
            "deltaWt [-0.01494913 -0.2712699 ]\n",
            "abs 0.2862190304156007\n"
          ]
        },
        {
          "output_type": "execute_result",
          "data": {
            "text/plain": [
              "[<matplotlib.lines.Line2D at 0x7fc80a396b20>]"
            ]
          },
          "metadata": {},
          "execution_count": 78
        },
        {
          "output_type": "stream",
          "name": "stdout",
          "text": [
            "currLoss 763.5641907391697\n",
            "deltaWt [-0.01452837 -0.26666364]\n",
            "abs 0.2811920131609815\n"
          ]
        },
        {
          "output_type": "execute_result",
          "data": {
            "text/plain": [
              "[<matplotlib.lines.Line2D at 0x7fc80a396e80>]"
            ]
          },
          "metadata": {},
          "execution_count": 78
        },
        {
          "output_type": "stream",
          "name": "stdout",
          "text": [
            "currLoss 748.2427642854608\n",
            "deltaWt [-0.01411643 -0.26215674]\n",
            "abs 0.2762731687589346\n"
          ]
        },
        {
          "output_type": "execute_result",
          "data": {
            "text/plain": [
              "[<matplotlib.lines.Line2D at 0x7fc80a39e070>]"
            ]
          },
          "metadata": {},
          "execution_count": 78
        },
        {
          "output_type": "stream",
          "name": "stdout",
          "text": [
            "currLoss 733.6078810121378\n",
            "deltaWt [-0.01371311 -0.25774709]\n",
            "abs 0.271460199698609\n"
          ]
        },
        {
          "output_type": "execute_result",
          "data": {
            "text/plain": [
              "[<matplotlib.lines.Line2D at 0x7fc80a39e580>]"
            ]
          },
          "metadata": {},
          "execution_count": 78
        },
        {
          "output_type": "stream",
          "name": "stdout",
          "text": [
            "currLoss 719.6307724931553\n",
            "deltaWt [-0.01331823 -0.25343263]\n",
            "abs 0.26675085730399406\n"
          ]
        },
        {
          "output_type": "execute_result",
          "data": {
            "text/plain": [
              "[<matplotlib.lines.Line2D at 0x7fc80a39e8e0>]"
            ]
          },
          "metadata": {},
          "execution_count": 78
        },
        {
          "output_type": "stream",
          "name": "stdout",
          "text": [
            "currLoss 706.2838804962947\n",
            "deltaWt [-0.01293161 -0.24921133]\n",
            "abs 0.26214294069592814\n"
          ]
        },
        {
          "output_type": "execute_result",
          "data": {
            "text/plain": [
              "[<matplotlib.lines.Line2D at 0x7fc80a39ec40>]"
            ]
          },
          "metadata": {},
          "execution_count": 78
        },
        {
          "output_type": "stream",
          "name": "stdout",
          "text": [
            "currLoss 693.5408060861082\n",
            "deltaWt [-0.01255308 -0.24508121]\n",
            "abs 0.25763429577622077\n"
          ]
        },
        {
          "output_type": "execute_result",
          "data": {
            "text/plain": [
              "[<matplotlib.lines.Line2D at 0x7fc80a39efa0>]"
            ]
          },
          "metadata": {},
          "execution_count": 78
        },
        {
          "output_type": "stream",
          "name": "stdout",
          "text": [
            "currLoss 681.3762608674632\n",
            "deltaWt [-0.01218247 -0.24104034]\n",
            "abs 0.2532228142333217\n"
          ]
        },
        {
          "output_type": "execute_result",
          "data": {
            "text/plain": [
              "[<matplotlib.lines.Line2D at 0x7fc80a32e340>]"
            ]
          },
          "metadata": {},
          "execution_count": 78
        },
        {
          "output_type": "stream",
          "name": "stdout",
          "text": [
            "currLoss 669.7660202796707\n",
            "deltaWt [-0.01181961 -0.23708683]\n",
            "abs 0.24890643256917055\n"
          ]
        },
        {
          "output_type": "execute_result",
          "data": {
            "text/plain": [
              "[<matplotlib.lines.Line2D at 0x7fc80a32e6a0>]"
            ]
          },
          "metadata": {},
          "execution_count": 78
        },
        {
          "output_type": "stream",
          "name": "stdout",
          "text": [
            "currLoss 658.6868788549361\n",
            "deltaWt [-0.01146432 -0.23321881]\n",
            "abs 0.24468313114668305\n"
          ]
        },
        {
          "output_type": "execute_result",
          "data": {
            "text/plain": [
              "[<matplotlib.lines.Line2D at 0x7fc80a32ea00>]"
            ]
          },
          "metadata": {},
          "execution_count": 78
        },
        {
          "output_type": "stream",
          "name": "stdout",
          "text": [
            "currLoss 648.116607358542\n",
            "deltaWt [-0.01111646 -0.22943447]\n",
            "abs 0.24055093325751287\n"
          ]
        },
        {
          "output_type": "execute_result",
          "data": {
            "text/plain": [
              "[<matplotlib.lines.Line2D at 0x7fc80a32ed60>]"
            ]
          },
          "metadata": {},
          "execution_count": 78
        },
        {
          "output_type": "stream",
          "name": "stdout",
          "text": [
            "currLoss 638.0339117315993\n",
            "deltaWt [-0.01077586 -0.22573204]\n",
            "abs 0.2365079042096232\n"
          ]
        },
        {
          "output_type": "execute_result",
          "data": {
            "text/plain": [
              "[<matplotlib.lines.Line2D at 0x7fc80a32ef70>]"
            ]
          },
          "metadata": {},
          "execution_count": 78
        },
        {
          "output_type": "stream",
          "name": "stdout",
          "text": [
            "currLoss 628.418393760571\n",
            "deltaWt [-0.01044237 -0.22210978]\n",
            "abs 0.23255215043424649\n"
          ]
        },
        {
          "output_type": "execute_result",
          "data": {
            "text/plain": [
              "[<matplotlib.lines.Line2D at 0x7fc80a334460>]"
            ]
          },
          "metadata": {},
          "execution_count": 78
        },
        {
          "output_type": "stream",
          "name": "stdout",
          "text": [
            "currLoss 619.2505134009359\n",
            "deltaWt [-0.01011584 -0.21856598]\n",
            "abs 0.22868181861181913\n"
          ]
        },
        {
          "output_type": "execute_result",
          "data": {
            "text/plain": [
              "[<matplotlib.lines.Line2D at 0x7fc80a3347c0>]"
            ]
          },
          "metadata": {},
          "execution_count": 78
        },
        {
          "output_type": "stream",
          "name": "stdout",
          "text": [
            "currLoss 610.5115526854295\n",
            "deltaWt [-0.00979611 -0.21509898]\n",
            "abs 0.2248950948165218\n"
          ]
        },
        {
          "output_type": "execute_result",
          "data": {
            "text/plain": [
              "[<matplotlib.lines.Line2D at 0x7fc80a334b20>]"
            ]
          },
          "metadata": {},
          "execution_count": 78
        },
        {
          "output_type": "stream",
          "name": "stdout",
          "text": [
            "currLoss 602.1835811502116\n",
            "deltaWt [-0.00948305 -0.21170715]\n",
            "abs 0.22119020367895814\n"
          ]
        },
        {
          "output_type": "execute_result",
          "data": {
            "text/plain": [
              "[<matplotlib.lines.Line2D at 0x7fc80a334e80>]"
            ]
          },
          "metadata": {},
          "execution_count": 78
        },
        {
          "output_type": "stream",
          "name": "stdout",
          "text": [
            "currLoss 594.2494227151283\n",
            "deltaWt [-0.00917652 -0.20838889]\n",
            "abs 0.2175654075666733\n"
          ]
        },
        {
          "output_type": "execute_result",
          "data": {
            "text/plain": [
              "[<matplotlib.lines.Line2D at 0x7fc80a3450d0>]"
            ]
          },
          "metadata": {},
          "execution_count": 78
        },
        {
          "output_type": "stream",
          "name": "stdout",
          "text": [
            "currLoss 586.6926239569077\n",
            "deltaWt [-0.00887636 -0.20514264]\n",
            "abs 0.21401900578207034\n"
          ]
        },
        {
          "output_type": "execute_result",
          "data": {
            "text/plain": [
              "[<matplotlib.lines.Line2D at 0x7fc80a345580>]"
            ]
          },
          "metadata": {},
          "execution_count": 78
        },
        {
          "output_type": "stream",
          "name": "stdout",
          "text": [
            "currLoss 579.497423716707\n",
            "deltaWt [-0.00858246 -0.20196688]\n",
            "abs 0.2105493337773563\n"
          ]
        },
        {
          "output_type": "execute_result",
          "data": {
            "text/plain": [
              "[<matplotlib.lines.Line2D at 0x7fc80a3458e0>]"
            ]
          },
          "metadata": {},
          "execution_count": 78
        },
        {
          "output_type": "stream",
          "name": "stdout",
          "text": [
            "currLoss 572.6487239858913\n",
            "deltaWt [-0.00829467 -0.1988601 ]\n",
            "abs 0.20715476238622976\n"
          ]
        },
        {
          "output_type": "execute_result",
          "data": {
            "text/plain": [
              "[<matplotlib.lines.Line2D at 0x7fc80a345c40>]"
            ]
          },
          "metadata": {},
          "execution_count": 78
        },
        {
          "output_type": "stream",
          "name": "stdout",
          "text": [
            "currLoss 566.1320620162882\n",
            "deltaWt [-0.00801286 -0.19582084]\n",
            "abs 0.20383369707182286\n"
          ]
        },
        {
          "output_type": "execute_result",
          "data": {
            "text/plain": [
              "[<matplotlib.lines.Line2D at 0x7fc80a345fa0>]"
            ]
          },
          "metadata": {},
          "execution_count": 78
        },
        {
          "output_type": "stream",
          "name": "stdout",
          "text": [
            "currLoss 559.9335836034118\n",
            "deltaWt [-0.00773691 -0.19284767]\n",
            "abs 0.200584577190698\n"
          ]
        },
        {
          "output_type": "execute_result",
          "data": {
            "text/plain": [
              "[<matplotlib.lines.Line2D at 0x7fc80a338340>]"
            ]
          },
          "metadata": {},
          "execution_count": 78
        },
        {
          "output_type": "stream",
          "name": "stdout",
          "text": [
            "currLoss 554.0400174933361\n",
            "deltaWt [-0.00746669 -0.18993918]\n",
            "abs 0.19740587527245435\n"
          ]
        },
        {
          "output_type": "execute_result",
          "data": {
            "text/plain": [
              "[<matplotlib.lines.Line2D at 0x7fc80a3386a0>]"
            ]
          },
          "metadata": {},
          "execution_count": 78
        },
        {
          "output_type": "stream",
          "name": "stdout",
          "text": [
            "currLoss 548.4386508659474\n",
            "deltaWt [-0.00720209 -0.18709401]\n",
            "abs 0.19429609631463052\n"
          ]
        },
        {
          "output_type": "execute_result",
          "data": {
            "text/plain": [
              "[<matplotlib.lines.Line2D at 0x7fc80a338a00>]"
            ]
          },
          "metadata": {},
          "execution_count": 78
        },
        {
          "output_type": "stream",
          "name": "stdout",
          "text": [
            "currLoss 543.1173058493131\n",
            "deltaWt [-0.00694297 -0.18431081]\n",
            "abs 0.19125377709264058\n"
          ]
        },
        {
          "output_type": "execute_result",
          "data": {
            "text/plain": [
              "[<matplotlib.lines.Line2D at 0x7fc80a338d60>]"
            ]
          },
          "metadata": {},
          "execution_count": 78
        },
        {
          "output_type": "stream",
          "name": "stdout",
          "text": [
            "currLoss 538.0643170218005\n",
            "deltaWt [-0.00668923 -0.18158825]\n",
            "abs 0.1882774854843241\n"
          ]
        },
        {
          "output_type": "execute_result",
          "data": {
            "text/plain": [
              "[<matplotlib.lines.Line2D at 0x7fc80a338f70>]"
            ]
          },
          "metadata": {},
          "execution_count": 78
        },
        {
          "output_type": "stream",
          "name": "stdout",
          "text": [
            "currLoss 533.2685098604011\n",
            "deltaWt [-0.00644075 -0.17892507]\n",
            "abs 0.18536581980889633\n"
          ]
        },
        {
          "output_type": "execute_result",
          "data": {
            "text/plain": [
              "[<matplotlib.lines.Line2D at 0x7fc80a344460>]"
            ]
          },
          "metadata": {},
          "execution_count": 78
        },
        {
          "output_type": "stream",
          "name": "stdout",
          "text": [
            "currLoss 528.7191800954648\n",
            "deltaWt [-0.00619742 -0.17631999]\n",
            "abs 0.18251740817992523\n"
          ]
        },
        {
          "output_type": "execute_result",
          "data": {
            "text/plain": [
              "[<matplotlib.lines.Line2D at 0x7fc80a3447c0>]"
            ]
          },
          "metadata": {},
          "execution_count": 78
        },
        {
          "output_type": "stream",
          "name": "stdout",
          "text": [
            "currLoss 524.4060739337275\n",
            "deltaWt [-0.00595912 -0.17377178]\n",
            "abs 0.17973090787206036\n"
          ]
        },
        {
          "output_type": "execute_result",
          "data": {
            "text/plain": [
              "[<matplotlib.lines.Line2D at 0x7fc80a344b20>]"
            ]
          },
          "metadata": {},
          "execution_count": 78
        },
        {
          "output_type": "stream",
          "name": "stdout",
          "text": [
            "currLoss 520.3193691131063\n",
            "deltaWt [-0.00572576 -0.17127924]\n",
            "abs 0.17700500470124414\n"
          ]
        },
        {
          "output_type": "execute_result",
          "data": {
            "text/plain": [
              "[<matplotlib.lines.Line2D at 0x7fc80a344e80>]"
            ]
          },
          "metadata": {},
          "execution_count": 78
        },
        {
          "output_type": "stream",
          "name": "stdout",
          "text": [
            "currLoss 516.4496567542875\n",
            "deltaWt [-0.00549722 -0.16884119]\n",
            "abs 0.17433841241804515\n"
          ]
        },
        {
          "output_type": "execute_result",
          "data": {
            "text/plain": [
              "[<matplotlib.lines.Line2D at 0x7fc80a354220>]"
            ]
          },
          "metadata": {},
          "execution_count": 78
        },
        {
          "output_type": "stream",
          "name": "stdout",
          "text": [
            "currLoss 512.7879239755925\n",
            "deltaWt [-0.00527341 -0.16645646]\n",
            "abs 0.17172987211397395\n"
          ]
        },
        {
          "output_type": "execute_result",
          "data": {
            "text/plain": [
              "[<matplotlib.lines.Line2D at 0x7fc80a354580>]"
            ]
          },
          "metadata": {},
          "execution_count": 78
        },
        {
          "output_type": "stream",
          "name": "stdout",
          "text": [
            "currLoss 509.3255372390192\n",
            "deltaWt [-0.00505422 -0.16412393]\n",
            "abs 0.1691781516403097\n"
          ]
        },
        {
          "output_type": "execute_result",
          "data": {
            "text/plain": [
              "[<matplotlib.lines.Line2D at 0x7fc80a3548e0>]"
            ]
          },
          "metadata": {},
          "execution_count": 78
        },
        {
          "output_type": "stream",
          "name": "stdout",
          "text": [
            "currLoss 506.05422639671065\n",
            "deltaWt [-0.00483955 -0.16184249]\n",
            "abs 0.1666820450393791\n"
          ]
        },
        {
          "output_type": "execute_result",
          "data": {
            "text/plain": [
              "[<matplotlib.lines.Line2D at 0x7fc80a354c40>]"
            ]
          },
          "metadata": {},
          "execution_count": 78
        },
        {
          "output_type": "stream",
          "name": "stdout",
          "text": [
            "currLoss 502.9660694083915\n",
            "deltaWt [-0.00462932 -0.15961106]\n",
            "abs 0.16424037198784358\n"
          ]
        },
        {
          "output_type": "execute_result",
          "data": {
            "text/plain": [
              "[<matplotlib.lines.Line2D at 0x7fc80a354fa0>]"
            ]
          },
          "metadata": {},
          "execution_count": 78
        },
        {
          "output_type": "stream",
          "name": "stdout",
          "text": [
            "currLoss 500.05347770155043\n",
            "deltaWt [-0.00442341 -0.15742857]\n",
            "abs 0.16185197725187095\n"
          ]
        },
        {
          "output_type": "execute_result",
          "data": {
            "text/plain": [
              "[<matplotlib.lines.Line2D at 0x7fc80a2ef340>]"
            ]
          },
          "metadata": {},
          "execution_count": 78
        },
        {
          "output_type": "stream",
          "name": "stdout",
          "text": [
            "currLoss 497.30918214734044\n",
            "deltaWt [-0.00422175 -0.15529398]\n",
            "abs 0.15951573015387766\n"
          ]
        },
        {
          "output_type": "execute_result",
          "data": {
            "text/plain": [
              "[<matplotlib.lines.Line2D at 0x7fc80a2ef6a0>]"
            ]
          },
          "metadata": {},
          "execution_count": 78
        },
        {
          "output_type": "stream",
          "name": "stdout",
          "text": [
            "currLoss 494.7262196262994\n",
            "deltaWt [-0.00402424 -0.15320629]\n",
            "abs 0.1572305240505667\n"
          ]
        },
        {
          "output_type": "execute_result",
          "data": {
            "text/plain": [
              "[<matplotlib.lines.Line2D at 0x7fc80a2efa00>]"
            ]
          },
          "metadata": {},
          "execution_count": 78
        },
        {
          "output_type": "stream",
          "name": "stdout",
          "text": [
            "currLoss 492.29792015908345\n",
            "deltaWt [-0.00383079 -0.15116449]\n",
            "abs 0.15499527582212025\n"
          ]
        },
        {
          "output_type": "execute_result",
          "data": {
            "text/plain": [
              "[<matplotlib.lines.Line2D at 0x7fc80a2efd60>]"
            ]
          },
          "metadata": {},
          "execution_count": 78
        },
        {
          "output_type": "stream",
          "name": "stdout",
          "text": [
            "currLoss 490.01789457845126\n",
            "deltaWt [-0.00364132 -0.14916761]\n",
            "abs 0.15280892537222712\n"
          ]
        },
        {
          "output_type": "execute_result",
          "data": {
            "text/plain": [
              "[<matplotlib.lines.Line2D at 0x7fc80a2eff70>]"
            ]
          },
          "metadata": {},
          "execution_count": 78
        },
        {
          "output_type": "stream",
          "name": "stdout",
          "text": [
            "currLoss 487.8800227197383\n",
            "deltaWt [-0.00345574 -0.1472147 ]\n",
            "abs 0.1506704351386805\n"
          ]
        },
        {
          "output_type": "execute_result",
          "data": {
            "text/plain": [
              "[<matplotlib.lines.Line2D at 0x7fc80a300460>]"
            ]
          },
          "metadata": {},
          "execution_count": 78
        },
        {
          "output_type": "stream",
          "name": "stdout",
          "text": [
            "currLoss 485.87844210800813\n",
            "deltaWt [-0.00327396 -0.14530483]\n",
            "abs 0.1485787896144828\n"
          ]
        },
        {
          "output_type": "execute_result",
          "data": {
            "text/plain": [
              "[<matplotlib.lines.Line2D at 0x7fc80a3007c0>]"
            ]
          },
          "metadata": {},
          "execution_count": 78
        },
        {
          "output_type": "stream",
          "name": "stdout",
          "text": [
            "currLoss 484.0075371209989\n",
            "deltaWt [-0.00309592 -0.14343708]\n",
            "abs 0.14653299487903926\n"
          ]
        },
        {
          "output_type": "execute_result",
          "data": {
            "text/plain": [
              "[<matplotlib.lines.Line2D at 0x7fc80a300b20>]"
            ]
          },
          "metadata": {},
          "execution_count": 78
        },
        {
          "output_type": "stream",
          "name": "stdout",
          "text": [
            "currLoss 482.26192860784874\n",
            "deltaWt [-0.00292152 -0.14161056]\n",
            "abs 0.14453207813936775\n"
          ]
        },
        {
          "output_type": "execute_result",
          "data": {
            "text/plain": [
              "[<matplotlib.lines.Line2D at 0x7fc80a300e80>]"
            ]
          },
          "metadata": {},
          "execution_count": 78
        },
        {
          "output_type": "stream",
          "name": "stdout",
          "text": [
            "currLoss 480.6364639444354\n",
            "deltaWt [-0.0027507  -0.13982439]\n",
            "abs 0.14257508728101165\n"
          ]
        },
        {
          "output_type": "execute_result",
          "data": {
            "text/plain": [
              "[<matplotlib.lines.Line2D at 0x7fc80a3090d0>]"
            ]
          },
          "metadata": {},
          "execution_count": 78
        },
        {
          "output_type": "stream",
          "name": "stdout",
          "text": [
            "currLoss 479.12620750696374\n",
            "deltaWt [-0.00258337 -0.13807773]\n",
            "abs 0.14066109042857367\n"
          ]
        },
        {
          "output_type": "execute_result",
          "data": {
            "text/plain": [
              "[<matplotlib.lines.Line2D at 0x7fc80a309580>]"
            ]
          },
          "metadata": {},
          "execution_count": 78
        },
        {
          "output_type": "stream",
          "name": "stdout",
          "text": [
            "currLoss 477.7264315462128\n",
            "deltaWt [-0.00241945 -0.13636972]\n",
            "abs 0.13878917551551506\n"
          ]
        },
        {
          "output_type": "execute_result",
          "data": {
            "text/plain": [
              "[<matplotlib.lines.Line2D at 0x7fc80a3098e0>]"
            ]
          },
          "metadata": {},
          "execution_count": 78
        },
        {
          "output_type": "stream",
          "name": "stdout",
          "text": [
            "currLoss 476.4326074455902\n",
            "deltaWt [-0.00225889 -0.13469956]\n",
            "abs 0.13695844986312977\n"
          ]
        },
        {
          "output_type": "execute_result",
          "data": {
            "text/plain": [
              "[<matplotlib.lines.Line2D at 0x7fc80a309c40>]"
            ]
          },
          "metadata": {},
          "execution_count": 78
        },
        {
          "output_type": "stream",
          "name": "stdout",
          "text": [
            "currLoss 475.240397346855\n",
            "deltaWt [-0.0021016  -0.13306644]\n",
            "abs 0.13516803976846603\n"
          ]
        },
        {
          "output_type": "execute_result",
          "data": {
            "text/plain": [
              "[<matplotlib.lines.Line2D at 0x7fc80a309fa0>]"
            ]
          },
          "metadata": {},
          "execution_count": 78
        },
        {
          "output_type": "stream",
          "name": "stdout",
          "text": [
            "currLoss 474.14564612804105\n",
            "deltaWt [-0.00194752 -0.13146957]\n",
            "abs 0.13341709010103564\n"
          ]
        },
        {
          "output_type": "execute_result",
          "data": {
            "text/plain": [
              "[<matplotlib.lines.Line2D at 0x7fc80a2fd340>]"
            ]
          },
          "metadata": {},
          "execution_count": 78
        },
        {
          "output_type": "stream",
          "name": "stdout",
          "text": [
            "currLoss 473.1443737187714\n",
            "deltaWt [-0.00179657 -0.12990819]\n",
            "abs 0.13170476390800356\n"
          ]
        },
        {
          "output_type": "execute_result",
          "data": {
            "text/plain": [
              "[<matplotlib.lines.Line2D at 0x7fc80a2fd5b0>]"
            ]
          },
          "metadata": {},
          "execution_count": 78
        },
        {
          "output_type": "stream",
          "name": "stdout",
          "text": [
            "currLoss 472.2327677387745\n",
            "deltaWt [-0.0016487  -0.12838154]\n",
            "abs 0.13003024202790936\n"
          ]
        },
        {
          "output_type": "execute_result",
          "data": {
            "text/plain": [
              "[<matplotlib.lines.Line2D at 0x7fc80a2fda00>]"
            ]
          },
          "metadata": {},
          "execution_count": 78
        },
        {
          "output_type": "stream",
          "name": "stdout",
          "text": [
            "currLoss 471.4071764460066\n",
            "deltaWt [-0.00150383 -0.12688889]\n",
            "abs 0.12839272271244795\n"
          ]
        },
        {
          "output_type": "execute_result",
          "data": {
            "text/plain": [
              "[<matplotlib.lines.Line2D at 0x7fc80a2fdd60>]"
            ]
          },
          "metadata": {},
          "execution_count": 78
        },
        {
          "output_type": "stream",
          "name": "stdout",
          "text": [
            "currLoss 470.6641019813595\n",
            "deltaWt [-0.0013619  -0.12542952]\n",
            "abs 0.12679142125642517\n"
          ]
        },
        {
          "output_type": "execute_result",
          "data": {
            "text/plain": [
              "[<matplotlib.lines.Line2D at 0x7fc80a2fdfa0>]"
            ]
          },
          "metadata": {},
          "execution_count": 78
        },
        {
          "output_type": "stream",
          "name": "stdout",
          "text": [
            "currLoss 470.00019389748445\n",
            "deltaWt [-0.00122286 -0.12400271]\n",
            "abs 0.1252255696354565\n"
          ]
        },
        {
          "output_type": "execute_result",
          "data": {
            "text/plain": [
              "[<matplotlib.lines.Line2D at 0x7fc80a31e490>]"
            ]
          },
          "metadata": {},
          "execution_count": 78
        },
        {
          "output_type": "stream",
          "name": "stdout",
          "text": [
            "currLoss 469.4122429597744\n",
            "deltaWt [-0.00108662 -0.12260779]\n",
            "abs 0.12369441615147547\n"
          ]
        },
        {
          "output_type": "execute_result",
          "data": {
            "text/plain": [
              "[<matplotlib.lines.Line2D at 0x7fc80a31e7f0>]"
            ]
          },
          "metadata": {},
          "execution_count": 78
        },
        {
          "output_type": "stream",
          "name": "stdout",
          "text": [
            "currLoss 468.8971752080676\n",
            "deltaWt [-0.00095315 -0.12124407]\n",
            "abs 0.12219722508569131\n"
          ]
        },
        {
          "output_type": "execute_result",
          "data": {
            "text/plain": [
              "[<matplotlib.lines.Line2D at 0x7fc80a31eb80>]"
            ]
          },
          "metadata": {},
          "execution_count": 78
        },
        {
          "output_type": "stream",
          "name": "stdout",
          "text": [
            "currLoss 468.45204626810056\n",
            "deltaWt [-0.00082237 -0.1199109 ]\n",
            "abs 0.12073327635899389\n"
          ]
        },
        {
          "output_type": "execute_result",
          "data": {
            "text/plain": [
              "[<matplotlib.lines.Line2D at 0x7fc80a31eee0>]"
            ]
          },
          "metadata": {},
          "execution_count": 78
        },
        {
          "output_type": "stream",
          "name": "stdout",
          "text": [
            "currLoss 468.0740359022101\n",
            "deltaWt [-0.00069424 -0.11860762]\n",
            "abs 0.11930186519949615\n"
          ]
        },
        {
          "output_type": "execute_result",
          "data": {
            "text/plain": [
              "[<matplotlib.lines.Line2D at 0x7fc80a321280>]"
            ]
          },
          "metadata": {},
          "execution_count": 78
        },
        {
          "output_type": "stream",
          "name": "stdout",
          "text": [
            "currLoss 467.7604427892204\n",
            "deltaWt [-0.00056869 -0.11733361]\n",
            "abs 0.11790230181722627\n"
          ]
        },
        {
          "output_type": "execute_result",
          "data": {
            "text/plain": [
              "[<matplotlib.lines.Line2D at 0x7fc80a3215e0>]"
            ]
          },
          "metadata": {},
          "execution_count": 78
        },
        {
          "output_type": "stream",
          "name": "stdout",
          "text": [
            "currLoss 467.50867952387784\n",
            "deltaWt [-0.00044567 -0.11608824]\n",
            "abs 0.11653391108567668\n"
          ]
        },
        {
          "output_type": "execute_result",
          "data": {
            "text/plain": [
              "[<matplotlib.lines.Line2D at 0x7fc80a321940>]"
            ]
          },
          "metadata": {},
          "execution_count": 78
        },
        {
          "output_type": "stream",
          "name": "stdout",
          "text": [
            "currLoss 467.31626782659737\n",
            "deltaWt [-0.00032512 -0.11487091]\n",
            "abs 0.11519603223013508\n"
          ]
        },
        {
          "output_type": "execute_result",
          "data": {
            "text/plain": [
              "[<matplotlib.lines.Line2D at 0x7fc80a321ca0>]"
            ]
          },
          "metadata": {},
          "execution_count": 78
        },
        {
          "output_type": "stream",
          "name": "stdout",
          "text": [
            "currLoss 467.18083395467914\n",
            "deltaWt [-0.000207   -0.11368102]\n",
            "abs 0.11388801852266806\n"
          ]
        },
        {
          "output_type": "execute_result",
          "data": {
            "text/plain": [
              "[<matplotlib.lines.Line2D at 0x7fc80a321eb0>]"
            ]
          },
          "metadata": {},
          "execution_count": 78
        },
        {
          "output_type": "stream",
          "name": "stdout",
          "text": [
            "currLoss 467.1001043065177\n",
            "deltaWt [-9.12516262e-05 -1.12517985e-01]\n",
            "abs 0.1126092369835412\n"
          ]
        },
        {
          "output_type": "execute_result",
          "data": {
            "text/plain": [
              "[<matplotlib.lines.Line2D at 0x7fc80a2a83a0>]"
            ]
          },
          "metadata": {},
          "execution_count": 78
        },
        {
          "output_type": "stream",
          "name": "stdout",
          "text": [
            "currLoss 467.07190121069056\n",
            "deltaWt [ 2.21788754e-05 -1.11381247e-01]\n",
            "abs 0.11140342583981333\n"
          ]
        },
        {
          "output_type": "execute_result",
          "data": {
            "text/plain": [
              "[<matplotlib.lines.Line2D at 0x7fc80a2a8700>]"
            ]
          },
          "metadata": {},
          "execution_count": 78
        },
        {
          "output_type": "stream",
          "name": "stdout",
          "text": [
            "currLoss 467.0941388921478\n",
            "deltaWt [ 0.00013334 -0.11027024]\n",
            "abs 0.11040358215259793\n"
          ]
        },
        {
          "output_type": "execute_result",
          "data": {
            "text/plain": [
              "[<matplotlib.lines.Line2D at 0x7fc80a2a8a60>]"
            ]
          },
          "metadata": {},
          "execution_count": 78
        },
        {
          "output_type": "stream",
          "name": "stdout",
          "text": [
            "currLoss 467.1648196080566\n",
            "deltaWt [ 0.00024228 -0.10918443]\n",
            "abs 0.10942670609714966\n"
          ]
        },
        {
          "output_type": "execute_result",
          "data": {
            "text/plain": [
              "[<matplotlib.lines.Line2D at 0x7fc80a2a8dc0>]"
            ]
          },
          "metadata": {},
          "execution_count": 78
        },
        {
          "output_type": "stream",
          "name": "stdout",
          "text": [
            "currLoss 467.28202994616487\n",
            "deltaWt [ 0.00034904 -0.10812327]\n",
            "abs 0.1084723116583266\n"
          ]
        },
        {
          "output_type": "execute_result",
          "data": {
            "text/plain": [
              "[<matplotlib.lines.Line2D at 0x7fc80a2a8fd0>]"
            ]
          },
          "metadata": {},
          "execution_count": 78
        },
        {
          "output_type": "stream",
          "name": "stdout",
          "text": [
            "currLoss 467.44393727884665\n",
            "deltaWt [ 0.00045367 -0.10708625]\n",
            "abs 0.10753992315378547\n"
          ]
        },
        {
          "output_type": "execute_result",
          "data": {
            "text/plain": [
              "[<matplotlib.lines.Line2D at 0x7fc80a2c34c0>]"
            ]
          },
          "metadata": {},
          "execution_count": 78
        },
        {
          "output_type": "stream",
          "name": "stdout",
          "text": [
            "currLoss 467.6487863662848\n",
            "deltaWt [ 0.00055622 -0.10607286]\n",
            "abs 0.10662907501430752\n"
          ]
        },
        {
          "output_type": "execute_result",
          "data": {
            "text/plain": [
              "[<matplotlib.lines.Line2D at 0x7fc80a2c3820>]"
            ]
          },
          "metadata": {},
          "execution_count": 78
        },
        {
          "output_type": "stream",
          "name": "stdout",
          "text": [
            "currLoss 467.89489610251724\n",
            "deltaWt [ 0.00065673 -0.10508258]\n",
            "abs 0.1057393115689047\n"
          ]
        },
        {
          "output_type": "execute_result",
          "data": {
            "text/plain": [
              "[<matplotlib.lines.Line2D at 0x7fc80a2c3b80>]"
            ]
          },
          "metadata": {},
          "execution_count": 78
        },
        {
          "output_type": "stream",
          "name": "stdout",
          "text": [
            "currLoss 468.1806563983374\n",
            "deltaWt [ 0.00075525 -0.10411494]\n",
            "abs 0.10487018683441374\n"
          ]
        },
        {
          "output_type": "execute_result",
          "data": {
            "text/plain": [
              "[<matplotlib.lines.Line2D at 0x7fc80a2c3ee0>]"
            ]
          },
          "metadata": {},
          "execution_count": 78
        },
        {
          "output_type": "stream",
          "name": "stdout",
          "text": [
            "currLoss 468.5045251952954\n",
            "deltaWt [ 0.00085181 -0.10316946]\n",
            "abs 0.10402126430958081\n"
          ]
        },
        {
          "output_type": "execute_result",
          "data": {
            "text/plain": [
              "[<matplotlib.lines.Line2D at 0x7fc80a2d0130>]"
            ]
          },
          "metadata": {},
          "execution_count": 78
        },
        {
          "output_type": "stream",
          "name": "stdout",
          "text": [
            "currLoss 468.86502560528345\n",
            "deltaWt [ 0.00094646 -0.10224566]\n",
            "abs 0.10319211677356677\n"
          ]
        },
        {
          "output_type": "execute_result",
          "data": {
            "text/plain": [
              "[<matplotlib.lines.Line2D at 0x7fc80a2d05e0>]"
            ]
          },
          "metadata": {},
          "execution_count": 78
        },
        {
          "output_type": "stream",
          "name": "stdout",
          "text": [
            "currLoss 469.2607431704265\n",
            "deltaWt [ 0.00103924 -0.10134309]\n",
            "abs 0.10238232608864717\n"
          ]
        },
        {
          "output_type": "execute_result",
          "data": {
            "text/plain": [
              "[<matplotlib.lines.Line2D at 0x7fc80a2d0940>]"
            ]
          },
          "metadata": {},
          "execution_count": 78
        },
        {
          "output_type": "stream",
          "name": "stdout",
          "text": [
            "currLoss 469.69032323821534\n",
            "deltaWt [ 0.00113019 -0.10046129]\n",
            "abs 0.1015914830072111\n"
          ]
        },
        {
          "output_type": "execute_result",
          "data": {
            "text/plain": [
              "[<matplotlib.lines.Line2D at 0x7fc80a2d0ca0>]"
            ]
          },
          "metadata": {},
          "execution_count": 78
        },
        {
          "output_type": "stream",
          "name": "stdout",
          "text": [
            "currLoss 470.1524684470391\n",
            "deltaWt [ 0.00121935 -0.09959984]\n",
            "abs 0.10081918698276571\n"
          ]
        },
        {
          "output_type": "execute_result",
          "data": {
            "text/plain": [
              "[<matplotlib.lines.Line2D at 0x7fc80a2d0eb0>]"
            ]
          },
          "metadata": {},
          "execution_count": 78
        },
        {
          "output_type": "stream",
          "name": "stdout",
          "text": [
            "currLoss 470.6459363174698\n",
            "deltaWt [ 0.00130676 -0.09875829]\n",
            "abs 0.10006504598502275\n"
          ]
        },
        {
          "output_type": "execute_result",
          "data": {
            "text/plain": [
              "[<matplotlib.lines.Line2D at 0x7fc80a2db3a0>]"
            ]
          },
          "metadata": {},
          "execution_count": 78
        },
        {
          "output_type": "stream",
          "name": "stdout",
          "text": [
            "currLoss 471.1695369448554\n",
            "deltaWt [ 0.00139245 -0.09793623]\n",
            "abs 0.09932867631888698\n"
          ]
        },
        {
          "output_type": "execute_result",
          "data": {
            "text/plain": [
              "[<matplotlib.lines.Line2D at 0x7fc80a2db700>]"
            ]
          },
          "metadata": {},
          "execution_count": 78
        },
        {
          "output_type": "stream",
          "name": "stdout",
          "text": [
            "breaking deltaWt [ 0.00139245 -0.09793623]\n"
          ]
        },
        {
          "output_type": "execute_result",
          "data": {
            "text/plain": [
              "[<matplotlib.lines.Line2D at 0x7fc80a2fdd30>]"
            ]
          },
          "metadata": {},
          "execution_count": 78
        },
        {
          "output_type": "execute_result",
          "data": {
            "text/plain": [
              "[<matplotlib.lines.Line2D at 0x7fc80a375fd0>]"
            ]
          },
          "metadata": {},
          "execution_count": 78
        },
        {
          "output_type": "display_data",
          "data": {
            "text/plain": [
              "<Figure size 432x288 with 1 Axes>"
            ],
            "image/png": "[encoded data removed]"
          },
          "metadata": {}
        }
      ],
      "source": [
        "# Lets use LR as 0.001\n",
        "lr=0.001\n",
        "totalIterCount=300 # Total no of iterations allowed\n",
        "itercount=0 #Current iteration number\n",
        "deltaWtThresh=0.1 #0.006\n",
        "print('deltaWtThresh',deltaWtThresh)\n",
        "deltaWt=0 #Random initialization\n",
        "#P=linearFunc(X,W)\n",
        "#initLoss=MSE(Y,P) # This is loss with current weights\n",
        "\n",
        "# Lets plot the actual line and initial line \n",
        "plt.plot(X,linearFunc(X,W),c='r')# starting line in red\n",
        "plt.plot(X,Y,c='b')# actual line in blue\n",
        "\n",
        "\n",
        "# We will now do multiple iterations\n",
        "# Stopping condition ? Either max iterations are reached or change in wts is less than a certain th\n",
        "#But why not monitor loss and just stop when loss starts increasing , because in this case it will work , this is a simple MSE loss func\n",
        "# In actuality loss functions are more complex and we are trying to code with those in mind\n",
        "\n",
        "while(True):\n",
        "    P=linearFunc(X,W)     #Prediction with current weights\n",
        "    gradient=grad(X,Y,P)  #Calculate the gradient at this point\n",
        "    W_Updated=W - lr*gradient\n",
        "    currLoss=MSE(Y,P)      \n",
        "    print('currLoss',currLoss) #We are printing this just for info\n",
        "    deltaWt=W_Updated - W\n",
        "    print('deltaWt',deltaWt)\n",
        "    print('abs',np.sum(abs(deltaWt)))\n",
        "\n",
        "    W=W_Updated\n",
        "    itercount=itercount+1\n",
        "    plt.plot(X,linearFunc(X,W),c='g')#  line after one iteration in green\n",
        "\n",
        "    if(itercount>=totalIterCount):\n",
        "      print('breaking itercount',itercount)\n",
        "      plt.plot(X,linearFunc(X,W),c='k')#  line after one iteration in green\n",
        "      break\n",
        "    if(np.sum(abs(deltaWt)) <= deltaWtThresh):\n",
        "      print('breaking deltaWt',deltaWt)\n",
        "      plt.plot(X,linearFunc(X,W),c='k')#\n",
        "      break\n",
        "  \n",
        "# Lets plot the actual line and initial line once again\n",
        "plt.plot(X,Y,c='b')# actual line in blue  \n"
      ]
    },
    {
      "cell_type": "markdown",
      "metadata": {
        "id": "IPi2sxgYIQYk"
      },
      "source": [
        "##  Result with Vanilla GD\n"
      ]
    },
    {
      "cell_type": "code",
      "execution_count": 79,
      "metadata": {
        "colab": {
          "base_uri": "https://localhost:8080/"
        },
        "id": "5Z2VLONwVRri",
        "outputId": "867cdcdb-e516-41c8-ccb4-1a55ae489631"
      },
      "outputs": [
        {
          "output_type": "execute_result",
          "data": {
            "text/plain": [
              "471.1695369448554"
            ]
          },
          "metadata": {},
          "execution_count": 79
        }
      ],
      "source": [
        "currLoss"
      ]
    },
    {
      "cell_type": "code",
      "execution_count": 80,
      "metadata": {
        "colab": {
          "base_uri": "https://localhost:8080/"
        },
        "id": "vRc0BjgEQFAr",
        "outputId": "c59e6067-5b0e-49e9-b6b8-7365561fc76b"
      },
      "outputs": [
        {
          "output_type": "execute_result",
          "data": {
            "text/plain": [
              "143"
            ]
          },
          "metadata": {},
          "execution_count": 80
        }
      ],
      "source": [
        "itercount"
      ]
    },
    {
      "cell_type": "code",
      "execution_count": 81,
      "metadata": {
        "colab": {
          "base_uri": "https://localhost:8080/"
        },
        "id": "d81pS-J8VQV6",
        "outputId": "451f7dd1-3752-4be2-929d-18fe6333e624"
      },
      "outputs": [
        {
          "output_type": "execute_result",
          "data": {
            "text/plain": [
              "array([  6.19616879, -40.43814695])"
            ]
          },
          "metadata": {},
          "execution_count": 81
        }
      ],
      "source": [
        "W"
      ]
    },
    {
      "cell_type": "markdown",
      "metadata": {
        "id": "ereQg7GT8BYC"
      },
      "source": [
        "- As can be seen in the graph above , the gradient descent algorithm was able to move towards  the best fit line through an iterative process although it did not reach the optimum point\n",
        "- Red Line indicates Random starting position\n",
        "- Each green line indicates one iteration\n",
        "- Black line indicates final GD iteration\n",
        "- Blue line indicates the actual best fit line \n",
        "- Vanilla Gradient descent took 143 iterations to reach the best fit line i.e minima of the loss curve\n"
      ]
    },
    {
      "cell_type": "code",
      "source": [],
      "metadata": {
        "id": "nNDCAjeQxNw6"
      },
      "execution_count": 81,
      "outputs": []
    },
    {
      "cell_type": "markdown",
      "metadata": {
        "id": "UoonMDikxOBW"
      },
      "source": [
        "##  Implement Adam"
      ]
    },
    {
      "cell_type": "code",
      "source": [
        "W=W_Copy.copy()"
      ],
      "metadata": {
        "id": "TAm0bhoExkvD"
      },
      "execution_count": 127,
      "outputs": []
    },
    {
      "cell_type": "code",
      "execution_count": 128,
      "metadata": {
        "colab": {
          "base_uri": "https://localhost:8080/"
        },
        "outputId": "ca9ecec4-3451-4e26-d564-d421f5a1499f",
        "id": "m76-rEPyxOBY"
      },
      "outputs": [
        {
          "output_type": "stream",
          "name": "stdout",
          "text": [
            "W [9. 6.]\n",
            "X [ 2  4  6  8 10 12 14 16 18]\n",
            "Y [ 7 11 15 19 23 27 31 35 39]\n"
          ]
        }
      ],
      "source": [
        "# We have already assigned an arbitrary value for weights (aka m and c here)\n",
        "print('W',W)\n",
        "\n",
        "#Lets also re-print our X,Y\n",
        "print('X',X) # input values\n",
        "print('Y',Y) # Actual Output\n",
        "\n",
        "#Alrighty, we are all set to proceed"
      ]
    },
    {
      "cell_type": "code",
      "execution_count": 129,
      "metadata": {
        "colab": {
          "base_uri": "https://localhost:8080/",
          "height": 1000
        },
        "outputId": "90f6c2ea-ca33-4cb0-e667-82c79fa0f726",
        "id": "D6aLM2EBxOBZ"
      },
      "outputs": [
        {
          "output_type": "stream",
          "name": "stdout",
          "text": [
            "deltaWtThresh 0.13\n"
          ]
        },
        {
          "output_type": "execute_result",
          "data": {
            "text/plain": [
              "[<matplotlib.lines.Line2D at 0x7fc8097b8e50>]"
            ]
          },
          "metadata": {},
          "execution_count": 129
        },
        {
          "output_type": "execute_result",
          "data": {
            "text/plain": [
              "[<matplotlib.lines.Line2D at 0x7fc8097c7340>]"
            ]
          },
          "metadata": {},
          "execution_count": 129
        },
        {
          "output_type": "stream",
          "name": "stdout",
          "text": [
            "currLoss 6635.666666666667\n",
            "deltaWt [-0.1 -0.1]\n",
            "abs 0.19999999999905604\n"
          ]
        },
        {
          "output_type": "execute_result",
          "data": {
            "text/plain": [
              "[<matplotlib.lines.Line2D at 0x7fc8097c7670>]"
            ]
          },
          "metadata": {},
          "execution_count": 129
        },
        {
          "output_type": "stream",
          "name": "stdout",
          "text": [
            "currLoss 6439.210000001695\n",
            "deltaWt [-0.09999712 -0.09999719]\n",
            "abs 0.1999943096089627\n"
          ]
        },
        {
          "output_type": "execute_result",
          "data": {
            "text/plain": [
              "[<matplotlib.lines.Line2D at 0x7fc8097c7b50>]"
            ]
          },
          "metadata": {},
          "execution_count": 129
        },
        {
          "output_type": "stream",
          "name": "stdout",
          "text": [
            "currLoss 6245.712180129063\n",
            "deltaWt [-0.09999223 -0.09999239]\n",
            "abs 0.19998461741802487\n"
          ]
        },
        {
          "output_type": "execute_result",
          "data": {
            "text/plain": [
              "[<matplotlib.lines.Line2D at 0x7fc8097dd1c0>]"
            ]
          },
          "metadata": {},
          "execution_count": 129
        },
        {
          "output_type": "stream",
          "name": "stdout",
          "text": [
            "currLoss 6055.176771508997\n",
            "deltaWt [-0.09998523 -0.09998555]\n",
            "abs 0.19997077576903166\n"
          ]
        },
        {
          "output_type": "execute_result",
          "data": {
            "text/plain": [
              "[<matplotlib.lines.Line2D at 0x7fc8097dd670>]"
            ]
          },
          "metadata": {},
          "execution_count": 129
        },
        {
          "output_type": "stream",
          "name": "stdout",
          "text": [
            "currLoss 5867.607239658174\n",
            "deltaWt [-0.09997606 -0.09997658]\n",
            "abs 0.19995264373744615\n"
          ]
        },
        {
          "output_type": "execute_result",
          "data": {
            "text/plain": [
              "[<matplotlib.lines.Line2D at 0x7fc8097dd8b0>]"
            ]
          },
          "metadata": {},
          "execution_count": 129
        },
        {
          "output_type": "stream",
          "name": "stdout",
          "text": [
            "currLoss 5683.00693401218\n",
            "deltaWt [-0.09996466 -0.09996543]\n",
            "abs 0.19993008687798763\n"
          ]
        },
        {
          "output_type": "execute_result",
          "data": {
            "text/plain": [
              "[<matplotlib.lines.Line2D at 0x7fc8097ddc40>]"
            ]
          },
          "metadata": {},
          "execution_count": 129
        },
        {
          "output_type": "stream",
          "name": "stdout",
          "text": [
            "currLoss 5501.379071631036\n",
            "deltaWt [-0.09995095 -0.09995203]\n",
            "abs 0.19990297679551094\n"
          ]
        },
        {
          "output_type": "execute_result",
          "data": {
            "text/plain": [
              "[<matplotlib.lines.Line2D at 0x7fc8097ddfa0>]"
            ]
          },
          "metadata": {},
          "execution_count": 129
        },
        {
          "output_type": "stream",
          "name": "stdout",
          "text": [
            "currLoss 5322.726721879588\n",
            "deltaWt [-0.09993487 -0.09993632]\n",
            "abs 0.19987119053731917\n"
          ]
        },
        {
          "output_type": "execute_result",
          "data": {
            "text/plain": [
              "[<matplotlib.lines.Line2D at 0x7fc8097cf490>]"
            ]
          },
          "metadata": {},
          "execution_count": 129
        },
        {
          "output_type": "stream",
          "name": "stdout",
          "text": [
            "currLoss 5147.052792196086\n",
            "deltaWt [-0.09991636 -0.09991825]\n",
            "abs 0.19983460980553325\n"
          ]
        },
        {
          "output_type": "execute_result",
          "data": {
            "text/plain": [
              "[<matplotlib.lines.Line2D at 0x7fc8097cf640>]"
            ]
          },
          "metadata": {},
          "execution_count": 129
        },
        {
          "output_type": "stream",
          "name": "stdout",
          "text": [
            "currLoss 4974.360015042377\n",
            "deltaWt [-0.09989537 -0.09989775]\n",
            "abs 0.19979311998968274\n"
          ]
        },
        {
          "output_type": "execute_result",
          "data": {
            "text/plain": [
              "[<matplotlib.lines.Line2D at 0x7fc8097cfa00>]"
            ]
          },
          "metadata": {},
          "execution_count": 129
        },
        {
          "output_type": "stream",
          "name": "stdout",
          "text": [
            "currLoss 4804.650936107525\n",
            "deltaWt [-0.09987183 -0.09987478]\n",
            "abs 0.19974660902060748\n"
          ]
        },
        {
          "output_type": "execute_result",
          "data": {
            "text/plain": [
              "[<matplotlib.lines.Line2D at 0x7fc8097cfdc0>]"
            ]
          },
          "metadata": {},
          "execution_count": 129
        },
        {
          "output_type": "stream",
          "name": "stdout",
          "text": [
            "currLoss 4637.927903814497\n",
            "deltaWt [-0.09984568 -0.09984928]\n",
            "abs 0.19969496604765524\n"
          ]
        },
        {
          "output_type": "execute_result",
          "data": {
            "text/plain": [
              "[<matplotlib.lines.Line2D at 0x7fc809775100>]"
            ]
          },
          "metadata": {},
          "execution_count": 129
        },
        {
          "output_type": "stream",
          "name": "stdout",
          "text": [
            "currLoss 4474.193060156797\n",
            "deltaWt [-0.09981688 -0.0998212 ]\n",
            "abs 0.19963807994138172\n"
          ]
        },
        {
          "output_type": "execute_result",
          "data": {
            "text/plain": [
              "[<matplotlib.lines.Line2D at 0x7fc8097755b0>]"
            ]
          },
          "metadata": {},
          "execution_count": 129
        },
        {
          "output_type": "stream",
          "name": "stdout",
          "text": [
            "currLoss 4313.448332869277\n",
            "deltaWt [-0.09978536 -0.09979048]\n",
            "abs 0.19957583762400333\n"
          ]
        },
        {
          "output_type": "execute_result",
          "data": {
            "text/plain": [
              "[<matplotlib.lines.Line2D at 0x7fc8097757c0>]"
            ]
          },
          "metadata": {},
          "execution_count": 129
        },
        {
          "output_type": "stream",
          "name": "stdout",
          "text": [
            "currLoss 4155.695428915063\n",
            "deltaWt [-0.09975105 -0.09975707]\n",
            "abs 0.19950812222925585\n"
          ]
        },
        {
          "output_type": "execute_result",
          "data": {
            "text/plain": [
              "[<matplotlib.lines.Line2D at 0x7fc809775af0>]"
            ]
          },
          "metadata": {},
          "execution_count": 129
        },
        {
          "output_type": "stream",
          "name": "stdout",
          "text": [
            "currLoss 4000.9358292490133\n",
            "deltaWt [-0.09971391 -0.0997209 ]\n",
            "abs 0.19943481109233296\n"
          ]
        },
        {
          "output_type": "execute_result",
          "data": {
            "text/plain": [
              "[<matplotlib.lines.Line2D at 0x7fc809775b20>]"
            ]
          },
          "metadata": {},
          "execution_count": 129
        },
        {
          "output_type": "stream",
          "name": "stdout",
          "text": [
            "currLoss 3849.17078479772\n",
            "deltaWt [-0.09967385 -0.09968193]\n",
            "abs 0.199355773569037\n"
          ]
        },
        {
          "output_type": "execute_result",
          "data": {
            "text/plain": [
              "[<matplotlib.lines.Line2D at 0x7fc809780220>]"
            ]
          },
          "metadata": {},
          "execution_count": 129
        },
        {
          "output_type": "stream",
          "name": "stdout",
          "text": [
            "currLoss 3700.401313576888\n",
            "deltaWt [-0.0996308  -0.09964007]\n",
            "abs 0.19927086868128718\n"
          ]
        },
        {
          "output_type": "execute_result",
          "data": {
            "text/plain": [
              "[<matplotlib.lines.Line2D at 0x7fc809780550>]"
            ]
          },
          "metadata": {},
          "execution_count": 129
        },
        {
          "output_type": "stream",
          "name": "stdout",
          "text": [
            "currLoss 3554.628198849295\n",
            "deltaWt [-0.09958469 -0.09959525]\n",
            "abs 0.1991799425834806\n"
          ]
        },
        {
          "output_type": "execute_result",
          "data": {
            "text/plain": [
              "[<matplotlib.lines.Line2D at 0x7fc8097808b0>]"
            ]
          },
          "metadata": {},
          "execution_count": 129
        },
        {
          "output_type": "stream",
          "name": "stdout",
          "text": [
            "currLoss 3411.8519882103765\n",
            "deltaWt [-0.09953542 -0.0995474 ]\n",
            "abs 0.1990828258411499\n"
          ]
        },
        {
          "output_type": "execute_result",
          "data": {
            "text/plain": [
              "[<matplotlib.lines.Line2D at 0x7fc809780c40>]"
            ]
          },
          "metadata": {},
          "execution_count": 129
        },
        {
          "output_type": "stream",
          "name": "stdout",
          "text": [
            "currLoss 3272.072993473994\n",
            "deltaWt [-0.0994829  -0.09949643]\n",
            "abs 0.19897933050954197\n"
          ]
        },
        {
          "output_type": "execute_result",
          "data": {
            "text/plain": [
              "[<matplotlib.lines.Line2D at 0x7fc809780f70>]"
            ]
          },
          "metadata": {},
          "execution_count": 129
        },
        {
          "output_type": "stream",
          "name": "stdout",
          "text": [
            "currLoss 3135.291291217981\n",
            "deltaWt [-0.09942702 -0.09944222]\n",
            "abs 0.19886924699550423\n"
          ]
        },
        {
          "output_type": "execute_result",
          "data": {
            "text/plain": [
              "[<matplotlib.lines.Line2D at 0x7fc809788460>]"
            ]
          },
          "metadata": {},
          "execution_count": 129
        },
        {
          "output_type": "stream",
          "name": "stdout",
          "text": [
            "currLoss 3001.5067238374577\n",
            "deltaWt [-0.09936766 -0.09938468]\n",
            "abs 0.19875234068098502\n"
          ]
        },
        {
          "output_type": "execute_result",
          "data": {
            "text/plain": [
              "[<matplotlib.lines.Line2D at 0x7fc809788670>]"
            ]
          },
          "metadata": {},
          "execution_count": 129
        },
        {
          "output_type": "stream",
          "name": "stdout",
          "text": [
            "currLoss 2870.7189009436315\n",
            "deltaWt [-0.09930467 -0.09932368]\n",
            "abs 0.19862834828077247\n"
          ]
        },
        {
          "output_type": "execute_result",
          "data": {
            "text/plain": [
              "[<matplotlib.lines.Line2D at 0x7fc809788a00>]"
            ]
          },
          "metadata": {},
          "execution_count": 129
        },
        {
          "output_type": "stream",
          "name": "stdout",
          "text": [
            "currLoss 2742.9272009364786\n",
            "deltaWt [-0.0992379  -0.09925907]\n",
            "abs 0.1984969739005744\n"
          ]
        },
        {
          "output_type": "execute_result",
          "data": {
            "text/plain": [
              "[<matplotlib.lines.Line2D at 0x7fc809788cd0>]"
            ]
          },
          "metadata": {},
          "execution_count": 129
        },
        {
          "output_type": "stream",
          "name": "stdout",
          "text": [
            "currLoss 2618.130772571042\n",
            "deltaWt [-0.09916719 -0.0991907 ]\n",
            "abs 0.19835788475410832\n"
          ]
        },
        {
          "output_type": "execute_result",
          "data": {
            "text/plain": [
              "[<matplotlib.lines.Line2D at 0x7fc809795100>]"
            ]
          },
          "metadata": {},
          "execution_count": 129
        },
        {
          "output_type": "stream",
          "name": "stdout",
          "text": [
            "currLoss 2496.3285363287646\n",
            "deltaWt [-0.09909233 -0.09911838]\n",
            "abs 0.19821070648943628\n"
          ]
        },
        {
          "output_type": "execute_result",
          "data": {
            "text/plain": [
              "[<matplotlib.lines.Line2D at 0x7fc8097955b0>]"
            ]
          },
          "metadata": {},
          "execution_count": 129
        },
        {
          "output_type": "stream",
          "name": "stdout",
          "text": [
            "currLoss 2377.5191853968563\n",
            "deltaWt [-0.0990131  -0.09904191]\n",
            "abs 0.19805501806510328\n"
          ]
        },
        {
          "output_type": "execute_result",
          "data": {
            "text/plain": [
              "[<matplotlib.lines.Line2D at 0x7fc809795790>]"
            ]
          },
          "metadata": {},
          "execution_count": 129
        },
        {
          "output_type": "stream",
          "name": "stdout",
          "text": [
            "currLoss 2261.7011860496536\n",
            "deltaWt [-0.09892927 -0.09896107]\n",
            "abs 0.19789034610561806\n"
          ]
        },
        {
          "output_type": "execute_result",
          "data": {
            "text/plain": [
              "[<matplotlib.lines.Line2D at 0x7fc809795b20>]"
            ]
          },
          "metadata": {},
          "execution_count": 129
        },
        {
          "output_type": "stream",
          "name": "stdout",
          "text": [
            "currLoss 2148.8727772157563\n",
            "deltaWt [-0.09884055 -0.09887561]\n",
            "abs 0.1977161586530647\n"
          ]
        },
        {
          "output_type": "execute_result",
          "data": {
            "text/plain": [
              "[<matplotlib.lines.Line2D at 0x7fc809795fd0>]"
            ]
          },
          "metadata": {},
          "execution_count": 129
        },
        {
          "output_type": "stream",
          "name": "stdout",
          "text": [
            "currLoss 2039.031969002853\n",
            "deltaWt [-0.09874663 -0.09878523]\n",
            "abs 0.1975318582169776\n"
          ]
        },
        {
          "output_type": "execute_result",
          "data": {
            "text/plain": [
              "[<matplotlib.lines.Line2D at 0x7fc80979b370>]"
            ]
          },
          "metadata": {},
          "execution_count": 129
        },
        {
          "output_type": "stream",
          "name": "stdout",
          "text": [
            "currLoss 1932.1765399377744\n",
            "deltaWt [-0.09864717 -0.09868961]\n",
            "abs 0.1973367740075429\n"
          ]
        },
        {
          "output_type": "execute_result",
          "data": {
            "text/plain": [
              "[<matplotlib.lines.Line2D at 0x7fc80979b6d0>]"
            ]
          },
          "metadata": {},
          "execution_count": 129
        },
        {
          "output_type": "stream",
          "name": "stdout",
          "text": [
            "currLoss 1828.3040326618002\n",
            "deltaWt [-0.09854176 -0.09858839]\n",
            "abs 0.1971301532173424\n"
          ]
        },
        {
          "output_type": "execute_result",
          "data": {
            "text/plain": [
              "[<matplotlib.lines.Line2D at 0x7fc80979ba30>]"
            ]
          },
          "metadata": {},
          "execution_count": 129
        },
        {
          "output_type": "stream",
          "name": "stdout",
          "text": [
            "currLoss 1727.4117477996383\n",
            "deltaWt [-0.09842998 -0.09848118]\n",
            "abs 0.19691115119358127\n"
          ]
        },
        {
          "output_type": "execute_result",
          "data": {
            "text/plain": [
              "[<matplotlib.lines.Line2D at 0x7fc80979bb80>]"
            ]
          },
          "metadata": {},
          "execution_count": 129
        },
        {
          "output_type": "stream",
          "name": "stdout",
          "text": [
            "currLoss 1629.4967356938162\n",
            "deltaWt [-0.09831132 -0.0983675 ]\n",
            "abs 0.19667882031544304\n"
          ]
        },
        {
          "output_type": "execute_result",
          "data": {
            "text/plain": [
              "[<matplotlib.lines.Line2D at 0x7fc80979bf70>]"
            ]
          },
          "metadata": {},
          "execution_count": 129
        },
        {
          "output_type": "stream",
          "name": "stdout",
          "text": [
            "currLoss 1534.5557856633156\n",
            "deltaWt [-0.09818523 -0.09824687]\n",
            "abs 0.1964320973589735\n"
          ]
        },
        {
          "output_type": "execute_result",
          "data": {
            "text/plain": [
              "[<matplotlib.lines.Line2D at 0x7fc809793490>]"
            ]
          },
          "metadata": {},
          "execution_count": 129
        },
        {
          "output_type": "stream",
          "name": "stdout",
          "text": [
            "currLoss 1442.585412404803\n",
            "deltaWt [-0.09805109 -0.0981187 ]\n",
            "abs 0.19616978909383853\n"
          ]
        },
        {
          "output_type": "execute_result",
          "data": {
            "text/plain": [
              "[<matplotlib.lines.Line2D at 0x7fc809793670>]"
            ]
          },
          "metadata": {},
          "execution_count": 129
        },
        {
          "output_type": "stream",
          "name": "stdout",
          "text": [
            "currLoss 1353.5818391051316\n",
            "deltaWt [-0.09790821 -0.09798235]\n",
            "abs 0.1958905558110855\n"
          ]
        },
        {
          "output_type": "execute_result",
          "data": {
            "text/plain": [
              "[<matplotlib.lines.Line2D at 0x7fc809793b20>]"
            ]
          },
          "metadata": {},
          "execution_count": 129
        },
        {
          "output_type": "stream",
          "name": "stdout",
          "text": [
            "currLoss 1267.5409767731078\n",
            "deltaWt [-0.09775579 -0.09783711]\n",
            "abs 0.19559289242742572\n"
          ]
        },
        {
          "output_type": "execute_result",
          "data": {
            "text/plain": [
              "[<matplotlib.lines.Line2D at 0x7fc809793d60>]"
            ]
          },
          "metadata": {},
          "execution_count": 129
        },
        {
          "output_type": "stream",
          "name": "stdout",
          "text": [
            "currLoss 1184.4583992244386\n",
            "deltaWt [-0.09759294 -0.09768216]\n",
            "abs 0.1952751067476357\n"
          ]
        },
        {
          "output_type": "execute_result",
          "data": {
            "text/plain": [
              "[<matplotlib.lines.Line2D at 0x7fc8097390d0>]"
            ]
          },
          "metadata": {},
          "execution_count": 129
        },
        {
          "output_type": "stream",
          "name": "stdout",
          "text": [
            "currLoss 1104.329313063773\n",
            "deltaWt [-0.09741869 -0.09751661]\n",
            "abs 0.19493529439056712\n"
          ]
        },
        {
          "output_type": "execute_result",
          "data": {
            "text/plain": [
              "[<matplotlib.lines.Line2D at 0x7fc809739580>]"
            ]
          },
          "metadata": {},
          "execution_count": 129
        },
        {
          "output_type": "stream",
          "name": "stdout",
          "text": [
            "currLoss 1027.1485218983623\n",
            "deltaWt [-0.09723189 -0.09733942]\n",
            "abs 0.19457130979346715\n"
          ]
        },
        {
          "output_type": "execute_result",
          "data": {
            "text/plain": [
              "[<matplotlib.lines.Line2D at 0x7fc8097398e0>]"
            ]
          },
          "metadata": {},
          "execution_count": 129
        },
        {
          "output_type": "stream",
          "name": "stdout",
          "text": [
            "currLoss 952.9103838853023\n",
            "deltaWt [-0.09703128 -0.09714945]\n",
            "abs 0.1941807326009597\n"
          ]
        },
        {
          "output_type": "execute_result",
          "data": {
            "text/plain": [
              "[<matplotlib.lines.Line2D at 0x7fc809739c40>]"
            ]
          },
          "metadata": {},
          "execution_count": 129
        },
        {
          "output_type": "stream",
          "name": "stdout",
          "text": [
            "currLoss 881.6087615536788\n",
            "deltaWt [-0.09681544 -0.09694539]\n",
            "abs 0.1937608286158885\n"
          ]
        },
        {
          "output_type": "execute_result",
          "data": {
            "text/plain": [
              "[<matplotlib.lines.Line2D at 0x7fc809739f10>]"
            ]
          },
          "metadata": {},
          "execution_count": 129
        },
        {
          "output_type": "stream",
          "name": "stdout",
          "text": [
            "currLoss 813.2369626484639\n",
            "deltaWt [-0.09658272 -0.09672578]\n",
            "abs 0.19330850433529556\n"
          ]
        },
        {
          "output_type": "execute_result",
          "data": {
            "text/plain": [
              "[<matplotlib.lines.Line2D at 0x7fc80972b280>]"
            ]
          },
          "metadata": {},
          "execution_count": 129
        },
        {
          "output_type": "stream",
          "name": "stdout",
          "text": [
            "currLoss 747.7876705076552\n",
            "deltaWt [-0.0963313  -0.09648896]\n",
            "abs 0.19282025391185575\n"
          ]
        },
        {
          "output_type": "execute_result",
          "data": {
            "text/plain": [
              "[<matplotlib.lines.Line2D at 0x7fc80972b4f0>]"
            ]
          },
          "metadata": {},
          "execution_count": 129
        },
        {
          "output_type": "stream",
          "name": "stdout",
          "text": [
            "currLoss 685.2528621994011\n",
            "deltaWt [-0.09605907 -0.09623303]\n",
            "abs 0.19229209716424966\n"
          ]
        },
        {
          "output_type": "execute_result",
          "data": {
            "text/plain": [
              "[<matplotlib.lines.Line2D at 0x7fc80972b8e0>]"
            ]
          },
          "metadata": {},
          "execution_count": 129
        },
        {
          "output_type": "stream",
          "name": "stdout",
          "text": [
            "currLoss 625.6237123014888\n",
            "deltaWt [-0.09576365 -0.09595586]\n",
            "abs 0.19171950700417306\n"
          ]
        },
        {
          "output_type": "execute_result",
          "data": {
            "text/plain": [
              "[<matplotlib.lines.Line2D at 0x7fc80972bd90>]"
            ]
          },
          "metadata": {},
          "execution_count": 129
        },
        {
          "output_type": "stream",
          "name": "stdout",
          "text": [
            "currLoss 568.8904797893235\n",
            "deltaWt [-0.09544231 -0.09565501]\n",
            "abs 0.19109732434798965\n"
          ]
        },
        {
          "output_type": "execute_result",
          "data": {
            "text/plain": [
              "[<matplotlib.lines.Line2D at 0x7fc80972bfa0>]"
            ]
          },
          "metadata": {},
          "execution_count": 129
        },
        {
          "output_type": "stream",
          "name": "stdout",
          "text": [
            "currLoss 515.0423749959004\n",
            "deltaWt [-0.09509195 -0.0953277 ]\n",
            "abs 0.1904196582332882\n"
          ]
        },
        {
          "output_type": "execute_result",
          "data": {
            "text/plain": [
              "[<matplotlib.lines.Line2D at 0x7fc80974f490>]"
            ]
          },
          "metadata": {},
          "execution_count": 129
        },
        {
          "output_type": "stream",
          "name": "stdout",
          "text": [
            "currLoss 464.06740300124926\n",
            "deltaWt [-0.094709   -0.09497077]\n",
            "abs 0.18967976846241896\n"
          ]
        },
        {
          "output_type": "execute_result",
          "data": {
            "text/plain": [
              "[<matplotlib.lines.Line2D at 0x7fc80974f7f0>]"
            ]
          },
          "metadata": {},
          "execution_count": 129
        },
        {
          "output_type": "stream",
          "name": "stdout",
          "text": [
            "currLoss 415.9521790799254\n",
            "deltaWt [-0.09428936 -0.09458057]\n",
            "abs 0.18886992764827848\n"
          ]
        },
        {
          "output_type": "execute_result",
          "data": {
            "text/plain": [
              "[<matplotlib.lines.Line2D at 0x7fc80974fb50>]"
            ]
          },
          "metadata": {},
          "execution_count": 129
        },
        {
          "output_type": "stream",
          "name": "stdout",
          "text": [
            "currLoss 370.6817109615787\n",
            "deltaWt [-0.09382832 -0.09415294]\n",
            "abs 0.18798125905059537\n"
          ]
        },
        {
          "output_type": "execute_result",
          "data": {
            "text/plain": [
              "[<matplotlib.lines.Line2D at 0x7fc80974feb0>]"
            ]
          },
          "metadata": {},
          "execution_count": 129
        },
        {
          "output_type": "stream",
          "name": "stdout",
          "text": [
            "currLoss 328.23914161827065\n",
            "deltaWt [-0.09332044 -0.0936831 ]\n",
            "abs 0.18700354608454273\n"
          ]
        },
        {
          "output_type": "execute_result",
          "data": {
            "text/plain": [
              "[<matplotlib.lines.Line2D at 0x7fc8097530d0>]"
            ]
          },
          "metadata": {},
          "execution_count": 129
        },
        {
          "output_type": "stream",
          "name": "stdout",
          "text": [
            "currLoss 288.60544506020847\n",
            "deltaWt [-0.09275946 -0.09316555]\n",
            "abs 0.18592500889790053\n"
          ]
        },
        {
          "output_type": "execute_result",
          "data": {
            "text/plain": [
              "[<matplotlib.lines.Line2D at 0x7fc809753580>]"
            ]
          },
          "metadata": {},
          "execution_count": 129
        },
        {
          "output_type": "stream",
          "name": "stdout",
          "text": [
            "currLoss 251.75906617993417\n",
            "deltaWt [-0.09213811 -0.09259393]\n",
            "abs 0.1847320430201589\n"
          ]
        },
        {
          "output_type": "execute_result",
          "data": {
            "text/plain": [
              "[<matplotlib.lines.Line2D at 0x7fc8097537c0>]"
            ]
          },
          "metadata": {},
          "execution_count": 129
        },
        {
          "output_type": "stream",
          "name": "stdout",
          "text": [
            "currLoss 217.67549402448412\n",
            "deltaWt [-0.09144798 -0.09196093]\n",
            "abs 0.1834089149081506\n"
          ]
        },
        {
          "output_type": "execute_result",
          "data": {
            "text/plain": [
              "[<matplotlib.lines.Line2D at 0x7fc809753c70>]"
            ]
          },
          "metadata": {},
          "execution_count": 129
        },
        {
          "output_type": "stream",
          "name": "stdout",
          "text": [
            "currLoss 186.3267560065109\n",
            "deltaWt [-0.09067933 -0.09125808]\n",
            "abs 0.1819374094446995\n"
          ]
        },
        {
          "output_type": "execute_result",
          "data": {
            "text/plain": [
              "[<matplotlib.lines.Line2D at 0x7fc809753e50>]"
            ]
          },
          "metadata": {},
          "execution_count": 129
        },
        {
          "output_type": "stream",
          "name": "stdout",
          "text": [
            "currLoss 157.68081853637977\n",
            "deltaWt [-0.08982083 -0.0904756 ]\n",
            "abs 0.1802964253988789\n"
          ]
        },
        {
          "output_type": "execute_result",
          "data": {
            "text/plain": [
              "[<matplotlib.lines.Line2D at 0x7fc809736340>]"
            ]
          },
          "metadata": {},
          "execution_count": 129
        },
        {
          "output_type": "stream",
          "name": "stdout",
          "text": [
            "currLoss 131.7008774786641\n",
            "deltaWt [-0.08885933 -0.08960218]\n",
            "abs 0.17846151700250013\n"
          ]
        },
        {
          "output_type": "execute_result",
          "data": {
            "text/plain": [
              "[<matplotlib.lines.Line2D at 0x7fc809736550>]"
            ]
          },
          "metadata": {},
          "execution_count": 129
        },
        {
          "output_type": "stream",
          "name": "stdout",
          "text": [
            "currLoss 108.34451992329234\n",
            "deltaWt [-0.08777962 -0.08862477]\n",
            "abs 0.17640438384269486\n"
          ]
        },
        {
          "output_type": "execute_result",
          "data": {
            "text/plain": [
              "[<matplotlib.lines.Line2D at 0x7fc8097368e0>]"
            ]
          },
          "metadata": {},
          "execution_count": 129
        },
        {
          "output_type": "stream",
          "name": "stdout",
          "text": [
            "currLoss 87.56273739419355\n",
            "deltaWt [-0.08656403 -0.08752828]\n",
            "abs 0.17409231823189575\n"
          ]
        },
        {
          "output_type": "execute_result",
          "data": {
            "text/plain": [
              "[<matplotlib.lines.Line2D at 0x7fc809736c10>]"
            ]
          },
          "metadata": {},
          "execution_count": 129
        },
        {
          "output_type": "stream",
          "name": "stdout",
          "text": [
            "currLoss 69.29877043065748\n",
            "deltaWt [-0.08519223 -0.0862954 ]\n",
            "abs 0.17148763050361787\n"
          ]
        },
        {
          "output_type": "execute_result",
          "data": {
            "text/plain": [
              "[<matplotlib.lines.Line2D at 0x7fc809736fa0>]"
            ]
          },
          "metadata": {},
          "execution_count": 129
        },
        {
          "output_type": "stream",
          "name": "stdout",
          "text": [
            "currLoss 53.48676647704967\n",
            "deltaWt [-0.08364081 -0.08490628]\n",
            "abs 0.16854709014294916\n"
          ]
        },
        {
          "output_type": "execute_result",
          "data": {
            "text/plain": [
              "[<matplotlib.lines.Line2D at 0x7fc809765310>]"
            ]
          },
          "metadata": {},
          "execution_count": 129
        },
        {
          "output_type": "stream",
          "name": "stdout",
          "text": [
            "currLoss 40.0502387407798\n",
            "deltaWt [-0.08188311 -0.08333834]\n",
            "abs 0.16522144651848186\n"
          ]
        },
        {
          "output_type": "execute_result",
          "data": {
            "text/plain": [
              "[<matplotlib.lines.Line2D at 0x7fc8097656a0>]"
            ]
          },
          "metadata": {},
          "execution_count": 129
        },
        {
          "output_type": "stream",
          "name": "stdout",
          "text": [
            "currLoss 28.90032535916997\n",
            "deltaWt [-0.07988903 -0.0815661 ]\n",
            "abs 0.16145512952459745\n"
          ]
        },
        {
          "output_type": "execute_result",
          "data": {
            "text/plain": [
              "[<matplotlib.lines.Line2D at 0x7fc80974ff10>]"
            ]
          },
          "metadata": {},
          "execution_count": 129
        },
        {
          "output_type": "stream",
          "name": "stdout",
          "text": [
            "currLoss 19.9338689183414\n",
            "deltaWt [-0.07762506 -0.07956122]\n",
            "abs 0.1571862792195134\n"
          ]
        },
        {
          "output_type": "execute_result",
          "data": {
            "text/plain": [
              "[<matplotlib.lines.Line2D at 0x7fc809765d00>]"
            ]
          },
          "metadata": {},
          "execution_count": 129
        },
        {
          "output_type": "stream",
          "name": "stdout",
          "text": [
            "currLoss 13.031369976495512\n",
            "deltaWt [-0.07505464 -0.07729268]\n",
            "abs 0.15234731373661597\n"
          ]
        },
        {
          "output_type": "execute_result",
          "data": {
            "text/plain": [
              "[<matplotlib.lines.Line2D at 0x7fc80979bc40>]"
            ]
          },
          "metadata": {},
          "execution_count": 129
        },
        {
          "output_type": "stream",
          "name": "stdout",
          "text": [
            "currLoss 8.054919084324958\n",
            "deltaWt [-0.07213898 -0.07472733]\n",
            "abs 0.14686631033008846\n"
          ]
        },
        {
          "output_type": "execute_result",
          "data": {
            "text/plain": [
              "[<matplotlib.lines.Line2D at 0x7fc809765ac0>]"
            ]
          },
          "metadata": {},
          "execution_count": 129
        },
        {
          "output_type": "stream",
          "name": "stdout",
          "text": [
            "currLoss 4.846283522362817\n",
            "deltaWt [-0.06883857 -0.07183096]\n",
            "abs 0.14066952998400306\n"
          ]
        },
        {
          "output_type": "execute_result",
          "data": {
            "text/plain": [
              "[<matplotlib.lines.Line2D at 0x7fc8096f9760>]"
            ]
          },
          "metadata": {},
          "execution_count": 129
        },
        {
          "output_type": "stream",
          "name": "stdout",
          "text": [
            "currLoss 3.2254182617320337\n",
            "deltaWt [-0.06511546 -0.06856997]\n",
            "abs 0.13368543200777072\n"
          ]
        },
        {
          "output_type": "execute_result",
          "data": {
            "text/plain": [
              "[<matplotlib.lines.Line2D at 0x7fc8096f9c40>]"
            ]
          },
          "metadata": {},
          "execution_count": 129
        },
        {
          "output_type": "stream",
          "name": "stdout",
          "text": [
            "currLoss 2.9897792566418215\n",
            "deltaWt [-0.06093665 -0.06491381]\n",
            "abs 0.12585045508904313\n"
          ]
        },
        {
          "output_type": "execute_result",
          "data": {
            "text/plain": [
              "[<matplotlib.lines.Line2D at 0x7fc8096f9eb0>]"
            ]
          },
          "metadata": {},
          "execution_count": 129
        },
        {
          "output_type": "stream",
          "name": "stdout",
          "text": [
            "breaking deltaWt [-0.06093665 -0.06491381]\n"
          ]
        },
        {
          "output_type": "execute_result",
          "data": {
            "text/plain": [
              "[<matplotlib.lines.Line2D at 0x7fc8096f9d90>]"
            ]
          },
          "metadata": {},
          "execution_count": 129
        },
        {
          "output_type": "execute_result",
          "data": {
            "text/plain": [
              "[<matplotlib.lines.Line2D at 0x7fc8096f95e0>]"
            ]
          },
          "metadata": {},
          "execution_count": 129
        },
        {
          "output_type": "display_data",
          "data": {
            "text/plain": [
              "<Figure size 432x288 with 1 Axes>"
            ],
            "image/png": "[encoded data removed]"
          },
          "metadata": {}
        }
      ],
      "source": [
        "# Lets use LR as 0.001\n",
        "lr=0.1\n",
        "totalIterCount=200 # Total no of iterations allowed\n",
        "itercount=0 #Current iteration number\n",
        "deltaWtThresh=0.13 #0.006\n",
        "print('deltaWtThresh',deltaWtThresh)\n",
        "deltaWt=0 #Random initialization\n",
        "# Additional params for adam\n",
        "beta1 = 0.9\n",
        "beta2 = 0.9\n",
        "min_abs_change = 1e-4\n",
        "max_iter = 1000\n",
        "m = 0*W\n",
        "v = 0*W\n",
        "epsilon = 10e-8\n",
        "\n",
        "\n",
        "# Lets plot the actual line and initial line \n",
        "plt.plot(X,linearFunc(X,W),c='r')# starting line in red\n",
        "plt.plot(X,Y,c='b')# actual line in blue\n",
        "\n",
        "\n",
        "# We will now do multiple iterations\n",
        "# Stopping condition ? Either max iterations are reached or change in wts is less than a certain th\n",
        "#But why not monitor loss and just stop when loss starts increasing , because in this case it will work , this is a simple MSE loss func\n",
        "# In actuality loss functions are more complex and we are trying to code with those in mind\n",
        "\n",
        "while(True):\n",
        "    P=linearFunc(X,W)     #Prediction with current weights\n",
        "    gradient=grad(X,Y,P)  #Calculate the gradient at this point\n",
        "    itercount=itercount+1\n",
        "    m = beta1 * m + (1-beta1) * gradient\n",
        "    v = beta2 * v + (1-beta2) * gradient * gradient\n",
        "    m_hat = m / (1-np.power(beta1,itercount))\n",
        "    v_hat = v / (1-np.power(beta2,itercount))\n",
        "    W_Updated = W - lr * m_hat / np.sqrt(v_hat + epsilon)\n",
        "    currLoss=MSE(Y,P)      \n",
        "    print('currLoss',currLoss) #We are printing this just for info\n",
        "    deltaWt=W_Updated - W\n",
        "    print('deltaWt',deltaWt)\n",
        "    print('abs',np.sum(abs(deltaWt)))\n",
        "\n",
        "    W=W_Updated\n",
        "    \n",
        "    plt.plot(X,linearFunc(X,W),c='g')#  line after one iteration in green\n",
        "\n",
        "    if(itercount>=totalIterCount):\n",
        "      print('breaking itercount',itercount)\n",
        "      plt.plot(X,linearFunc(X,W),c='k')#  line after one iteration in green\n",
        "      break\n",
        "    if(np.sum(abs(deltaWt)) <= deltaWtThresh):\n",
        "      print('breaking deltaWt',deltaWt)\n",
        "      plt.plot(X,linearFunc(X,W),c='k')#\n",
        "      break\n",
        "  \n",
        "# Lets plot the actual line and initial line once again\n",
        "plt.plot(X,Y,c='b')# actual line in blue  \n"
      ]
    },
    {
      "cell_type": "markdown",
      "metadata": {
        "id": "ML5sv84nxOBb"
      },
      "source": [
        "##  Result with Adam\n"
      ]
    },
    {
      "cell_type": "code",
      "execution_count": 133,
      "metadata": {
        "colab": {
          "base_uri": "https://localhost:8080/"
        },
        "outputId": "ee730ac9-b084-4b26-b0fe-9ba5d848fa95",
        "id": "ON9t_BNXxOBb"
      },
      "outputs": [
        {
          "output_type": "execute_result",
          "data": {
            "text/plain": [
              "2.9897792566418215"
            ]
          },
          "metadata": {},
          "execution_count": 133
        }
      ],
      "source": [
        "currLoss"
      ]
    },
    {
      "cell_type": "code",
      "execution_count": 134,
      "metadata": {
        "colab": {
          "base_uri": "https://localhost:8080/"
        },
        "outputId": "7cac15fc-8070-477f-c904-c4635d8beae6",
        "id": "JWDK7WQJxOBc"
      },
      "outputs": [
        {
          "output_type": "execute_result",
          "data": {
            "text/plain": [
              "72"
            ]
          },
          "metadata": {},
          "execution_count": 134
        }
      ],
      "source": [
        "itercount"
      ]
    },
    {
      "cell_type": "code",
      "execution_count": 137,
      "metadata": {
        "colab": {
          "base_uri": "https://localhost:8080/"
        },
        "outputId": "0be89f33-e085-4f67-91fe-0bc597cca6bb",
        "id": "Vd7CFnf9xOBd"
      },
      "outputs": [
        {
          "output_type": "execute_result",
          "data": {
            "text/plain": [
              "array([ 2.21886634, -0.81270871])"
            ]
          },
          "metadata": {},
          "execution_count": 137
        }
      ],
      "source": [
        "W"
      ]
    },
    {
      "cell_type": "markdown",
      "metadata": {
        "id": "0R_ZhMGIxOBe"
      },
      "source": [
        "- As can be seen in the graph above , Adam GD was able to come much closer to the best fit line than Vanilla GD \n",
        "- Red Line indicates Random starting position\n",
        "- Each green line indicates one iteration\n",
        "- Black line indicates final GD iteration\n",
        "- Blue line indicates the actual best fit line \n",
        "- Adam  took 72 iterations to reach the best fit line i.e minima of the loss curve\n"
      ]
    },
    {
      "cell_type": "markdown",
      "metadata": {
        "id": "N-9edI--qvs5"
      },
      "source": [
        "##  Comparison\n",
        "- This exercise clearly demostartes how Adam is superior to vanilla GD\n",
        "- It was not only  able to arrive much closer to the best fit line , but it did so in less than half the iterations that Vanilla GD took\n"
      ]
    },
    {
      "cell_type": "markdown",
      "metadata": {
        "id": "wVdJL6N8L34A"
      },
      "source": [
        "##  References\n",
        "- The following references were used while creating this notebook:\n",
        "\n",
        "- https://towardsdatascience.com/linear-regression-using-gradient-descent-97a6c8700931 by Adarsh Menon\n",
        "\n",
        "- Post Graduation AI/ML Study Material by GL/UAT\n"
      ]
    }
  ],
  "metadata": {
    "colab": {
      "toc_visible": true,
      "provenance": []
    },
    "gpuClass": "standard",
    "kernelspec": {
      "display_name": "Python 3",
      "language": "python",
      "name": "python3"
    },
    "language_info": {
      "codemirror_mode": {
        "name": "ipython",
        "version": 3
      },
      "file_extension": ".py",
      "mimetype": "text/x-python",
      "name": "python",
      "nbconvert_exporter": "python",
      "pygments_lexer": "ipython3",
      "version": "3.8.3"
    }
  },
  "nbformat": 4,
  "nbformat_minor": 0
}